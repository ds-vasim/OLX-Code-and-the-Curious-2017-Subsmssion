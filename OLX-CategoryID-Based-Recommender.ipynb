{
 "cells": [
  {
   "cell_type": "markdown",
   "metadata": {},
   "source": [
    "# Category-Wise Popularity Based Recommender System"
   ]
  },
  {
   "cell_type": "markdown",
   "metadata": {},
   "source": [
    "___"
   ]
  },
  {
   "cell_type": "code",
   "execution_count": 89,
   "metadata": {
    "collapsed": true
   },
   "outputs": [],
   "source": [
    "import numpy as np\n",
    "import pandas as pd\n",
    "from pandas import DataFrame as df"
   ]
  },
  {
   "cell_type": "markdown",
   "metadata": {},
   "source": [
    "## Load Training and Test Set"
   ]
  },
  {
   "cell_type": "code",
   "execution_count": 41,
   "metadata": {
    "collapsed": true
   },
   "outputs": [],
   "source": [
    "ads_data = pd.read_csv('./Dataset/ads_data.csv')\n",
    "userdata = pd.read_csv('./Dataset/user_data.csv')\n",
    "user_messages = pd.read_csv('./Dataset/user_messages.csv')"
   ]
  },
  {
   "cell_type": "code",
   "execution_count": 42,
   "metadata": {
    "collapsed": true
   },
   "outputs": [],
   "source": [
    "test = pd.read_csv('./Dataset/user_messages_test.csv')"
   ]
  },
  {
   "cell_type": "markdown",
   "metadata": {},
   "source": [
    "### 1.1 Exploring Ads Data"
   ]
  },
  {
   "cell_type": "code",
   "execution_count": 43,
   "metadata": {
    "collapsed": false
   },
   "outputs": [],
   "source": [
    "ads_data.sort_values('category_id',inplace = True)\n",
    "#ads_data.head(10)"
   ]
  },
  {
   "cell_type": "code",
   "execution_count": 44,
   "metadata": {
    "collapsed": false
   },
   "outputs": [],
   "source": [
    "ads_data.drop('description',inplace = True, axis=1)\n",
    "ads_data.drop('lat',inplace = True,axis =1)\n",
    "ads_data.drop('long',inplace = True, axis = 1)"
   ]
  },
  {
   "cell_type": "code",
   "execution_count": 45,
   "metadata": {
    "collapsed": false
   },
   "outputs": [
    {
     "data": {
      "text/html": [
       "<div>\n",
       "<table border=\"1\" class=\"dataframe\">\n",
       "  <thead>\n",
       "    <tr style=\"text-align: right;\">\n",
       "      <th></th>\n",
       "      <th>ad_id</th>\n",
       "      <th>category_id</th>\n",
       "      <th>seller_id</th>\n",
       "      <th>creation_time</th>\n",
       "      <th>title</th>\n",
       "      <th>price</th>\n",
       "      <th>source</th>\n",
       "      <th>enabled</th>\n",
       "    </tr>\n",
       "  </thead>\n",
       "  <tbody>\n",
       "    <tr>\n",
       "      <th>401718</th>\n",
       "      <td>2275225</td>\n",
       "      <td>362</td>\n",
       "      <td>522712</td>\n",
       "      <td>2017-04-05 00:38:25</td>\n",
       "      <td>Casco HTL nuevo</td>\n",
       "      <td>800.0</td>\n",
       "      <td>android</td>\n",
       "      <td>1</td>\n",
       "    </tr>\n",
       "    <tr>\n",
       "      <th>619697</th>\n",
       "      <td>863742</td>\n",
       "      <td>362</td>\n",
       "      <td>353414</td>\n",
       "      <td>2016-10-06 16:10:23</td>\n",
       "      <td>Volkswagen gol trend</td>\n",
       "      <td>135000.0</td>\n",
       "      <td>android</td>\n",
       "      <td>1</td>\n",
       "    </tr>\n",
       "    <tr>\n",
       "      <th>23115</th>\n",
       "      <td>411940</td>\n",
       "      <td>362</td>\n",
       "      <td>237803</td>\n",
       "      <td>2016-08-04 12:55:05</td>\n",
       "      <td>Siena 2010 Gnc</td>\n",
       "      <td>100000.0</td>\n",
       "      <td>android</td>\n",
       "      <td>0</td>\n",
       "    </tr>\n",
       "    <tr>\n",
       "      <th>92976</th>\n",
       "      <td>1436629</td>\n",
       "      <td>362</td>\n",
       "      <td>466535</td>\n",
       "      <td>2016-12-15 22:42:56</td>\n",
       "      <td>Palio Fire</td>\n",
       "      <td>100000.0</td>\n",
       "      <td>android</td>\n",
       "      <td>0</td>\n",
       "    </tr>\n",
       "    <tr>\n",
       "      <th>23111</th>\n",
       "      <td>407672</td>\n",
       "      <td>362</td>\n",
       "      <td>236959</td>\n",
       "      <td>2016-08-03 21:10:05</td>\n",
       "      <td>Repuesto Monoshock fz 16</td>\n",
       "      <td>400.0</td>\n",
       "      <td>android</td>\n",
       "      <td>0</td>\n",
       "    </tr>\n",
       "  </tbody>\n",
       "</table>\n",
       "</div>"
      ],
      "text/plain": [
       "          ad_id  category_id  seller_id        creation_time  \\\n",
       "401718  2275225          362     522712  2017-04-05 00:38:25   \n",
       "619697   863742          362     353414  2016-10-06 16:10:23   \n",
       "23115    411940          362     237803  2016-08-04 12:55:05   \n",
       "92976   1436629          362     466535  2016-12-15 22:42:56   \n",
       "23111    407672          362     236959  2016-08-03 21:10:05   \n",
       "\n",
       "                           title     price   source  enabled  \n",
       "401718           Casco HTL nuevo     800.0  android        1  \n",
       "619697      Volkswagen gol trend  135000.0  android        1  \n",
       "23115             Siena 2010 Gnc  100000.0  android        0  \n",
       "92976                 Palio Fire  100000.0  android        0  \n",
       "23111   Repuesto Monoshock fz 16     400.0  android        0  "
      ]
     },
     "execution_count": 45,
     "metadata": {},
     "output_type": "execute_result"
    }
   ],
   "source": [
    "ads_data.head()"
   ]
  },
  {
   "cell_type": "code",
   "execution_count": 46,
   "metadata": {
    "collapsed": false
   },
   "outputs": [
    {
     "name": "stdout",
     "output_type": "stream",
     "text": [
      "Number of Ads: 645168\n"
     ]
    }
   ],
   "source": [
    "print \"Number of Ads:\", len(ads_data)"
   ]
  },
  {
   "cell_type": "code",
   "execution_count": 47,
   "metadata": {
    "collapsed": false
   },
   "outputs": [
    {
     "name": "stdout",
     "output_type": "stream",
     "text": [
      "Number of Unique Ad_ID: 645168\n"
     ]
    }
   ],
   "source": [
    "print \"Number of Unique Ad_ID:\", len(ads_data['ad_id'].unique())"
   ]
  },
  {
   "cell_type": "code",
   "execution_count": 48,
   "metadata": {
    "collapsed": false
   },
   "outputs": [
    {
     "name": "stdout",
     "output_type": "stream",
     "text": [
      "Number of Unique Category_ID: 10\n"
     ]
    }
   ],
   "source": [
    "print \"Number of Unique Category_ID:\", len(ads_data['category_id'].unique())"
   ]
  },
  {
   "cell_type": "code",
   "execution_count": 49,
   "metadata": {
    "collapsed": false
   },
   "outputs": [
    {
     "name": "stdout",
     "output_type": "stream",
     "text": [
      "Number of Seller_ID: 108112\n"
     ]
    }
   ],
   "source": [
    "print \"Number of Seller_ID:\", len(ads_data['seller_id'].unique())"
   ]
  },
  {
   "cell_type": "code",
   "execution_count": 50,
   "metadata": {
    "collapsed": false
   },
   "outputs": [
    {
     "data": {
      "text/plain": [
       "count    6.451660e+05\n",
       "mean     5.291704e+03\n",
       "std      9.827501e+05\n",
       "min      0.000000e+00\n",
       "25%      1.500000e+02\n",
       "50%      3.400000e+02\n",
       "75%      8.500000e+02\n",
       "max      7.777778e+08\n",
       "Name: price, dtype: float64"
      ]
     },
     "execution_count": 50,
     "metadata": {},
     "output_type": "execute_result"
    }
   ],
   "source": [
    "ads_data['price'].describe()"
   ]
  },
  {
   "cell_type": "code",
   "execution_count": 51,
   "metadata": {
    "collapsed": false
   },
   "outputs": [
    {
     "data": {
      "text/plain": [
       "array(['android', 'web', 'apple', nan, 'i2', 'none'], dtype=object)"
      ]
     },
     "execution_count": 51,
     "metadata": {},
     "output_type": "execute_result"
    }
   ],
   "source": [
    "ads_data['source'].unique()  # NAN available"
   ]
  },
  {
   "cell_type": "markdown",
   "metadata": {},
   "source": [
    "### Distribution of Each Category ID"
   ]
  },
  {
   "cell_type": "code",
   "execution_count": 52,
   "metadata": {
    "collapsed": true
   },
   "outputs": [],
   "source": [
    "category = ads_data['category_id'].unique()"
   ]
  },
  {
   "cell_type": "code",
   "execution_count": 53,
   "metadata": {
    "collapsed": true
   },
   "outputs": [],
   "source": [
    "cat_len = [len(ads_data[ads_data['category_id'] == i]) for i in category]"
   ]
  },
  {
   "cell_type": "code",
   "execution_count": 54,
   "metadata": {
    "collapsed": false
   },
   "outputs": [
    {
     "name": "stdout",
     "output_type": "stream",
     "text": [
      "Category :  362 Number :  25804\n",
      "Category :  800 Number :  72561\n",
      "Category :  806 Number :  79110\n",
      "Category :  811 Number :  11408\n",
      "Category :  815 Number :  267871\n",
      "Category :  853 Number :  70571\n",
      "Category :  859 Number :  13754\n",
      "Category :  881 Number :  19640\n",
      "Category :  887 Number :  19813\n",
      "Category :  888 Number :  64636\n"
     ]
    }
   ],
   "source": [
    "for i in range(len(category)):\n",
    "    print \"Category : \", category[i] ,\"Number : \" ,cat_len[i]"
   ]
  },
  {
   "cell_type": "markdown",
   "metadata": {},
   "source": [
    "## 1.2 Exploring User Data"
   ]
  },
  {
   "cell_type": "code",
   "execution_count": 55,
   "metadata": {
    "collapsed": false
   },
   "outputs": [],
   "source": [
    "userdata.sort_values('user_id',inplace = True)\n",
    "#userdata.head(10)"
   ]
  },
  {
   "cell_type": "code",
   "execution_count": 56,
   "metadata": {
    "collapsed": false
   },
   "outputs": [
    {
     "data": {
      "text/plain": [
       "Index([u'event_time', u'user_id', u'event', u'channel', u'user_lat',\n",
       "       u'user_long', u'origin', u'ad_id', u'images_count', u'ad_impressions',\n",
       "       u'ad_views', u'ad_messages'],\n",
       "      dtype='object')"
      ]
     },
     "execution_count": 56,
     "metadata": {},
     "output_type": "execute_result"
    }
   ],
   "source": [
    "userdata.columns"
   ]
  },
  {
   "cell_type": "code",
   "execution_count": 57,
   "metadata": {
    "collapsed": false
   },
   "outputs": [],
   "source": [
    "userdata.drop(u'user_lat',inplace = True,axis = 1)\n",
    "userdata.drop(u'user_long', inplace = True, axis = 1)"
   ]
  },
  {
   "cell_type": "code",
   "execution_count": 162,
   "metadata": {
    "collapsed": false
   },
   "outputs": [
    {
     "data": {
      "text/html": [
       "<div>\n",
       "<table border=\"1\" class=\"dataframe\">\n",
       "  <thead>\n",
       "    <tr style=\"text-align: right;\">\n",
       "      <th></th>\n",
       "      <th>event_time</th>\n",
       "      <th>user_id</th>\n",
       "      <th>event</th>\n",
       "      <th>channel</th>\n",
       "      <th>origin</th>\n",
       "      <th>ad_id</th>\n",
       "      <th>images_count</th>\n",
       "      <th>ad_impressions</th>\n",
       "      <th>ad_views</th>\n",
       "      <th>ad_messages</th>\n",
       "    </tr>\n",
       "  </thead>\n",
       "  <tbody>\n",
       "    <tr>\n",
       "      <th>544306</th>\n",
       "      <td>2017-06-08 15:10:05</td>\n",
       "      <td>1</td>\n",
       "      <td>view</td>\n",
       "      <td>android</td>\n",
       "      <td>notification_center</td>\n",
       "      <td>2116768</td>\n",
       "      <td>3.0</td>\n",
       "      <td>1317.0</td>\n",
       "      <td>19.0</td>\n",
       "      <td>0.0</td>\n",
       "    </tr>\n",
       "    <tr>\n",
       "      <th>709950</th>\n",
       "      <td>2017-06-11 16:39:48</td>\n",
       "      <td>1</td>\n",
       "      <td>view</td>\n",
       "      <td>android</td>\n",
       "      <td>search</td>\n",
       "      <td>2784220</td>\n",
       "      <td>3.0</td>\n",
       "      <td>264.0</td>\n",
       "      <td>62.0</td>\n",
       "      <td>2.0</td>\n",
       "    </tr>\n",
       "    <tr>\n",
       "      <th>596723</th>\n",
       "      <td>2017-06-11 16:40:16</td>\n",
       "      <td>1</td>\n",
       "      <td>view</td>\n",
       "      <td>android</td>\n",
       "      <td>search</td>\n",
       "      <td>1232646</td>\n",
       "      <td>4.0</td>\n",
       "      <td>1090.0</td>\n",
       "      <td>224.0</td>\n",
       "      <td>7.0</td>\n",
       "    </tr>\n",
       "    <tr>\n",
       "      <th>90092</th>\n",
       "      <td>2017-06-11 16:43:24</td>\n",
       "      <td>1</td>\n",
       "      <td>view</td>\n",
       "      <td>android</td>\n",
       "      <td>search</td>\n",
       "      <td>337350</td>\n",
       "      <td>4.0</td>\n",
       "      <td>42.0</td>\n",
       "      <td>24.0</td>\n",
       "      <td>0.0</td>\n",
       "    </tr>\n",
       "    <tr>\n",
       "      <th>642116</th>\n",
       "      <td>2017-06-11 16:39:24</td>\n",
       "      <td>1</td>\n",
       "      <td>view</td>\n",
       "      <td>android</td>\n",
       "      <td>search</td>\n",
       "      <td>2325381</td>\n",
       "      <td>3.0</td>\n",
       "      <td>795.0</td>\n",
       "      <td>177.0</td>\n",
       "      <td>0.0</td>\n",
       "    </tr>\n",
       "    <tr>\n",
       "      <th>1064533</th>\n",
       "      <td>2017-06-09 16:29:41</td>\n",
       "      <td>1</td>\n",
       "      <td>view</td>\n",
       "      <td>android</td>\n",
       "      <td>home</td>\n",
       "      <td>2817385</td>\n",
       "      <td>4.0</td>\n",
       "      <td>1363.0</td>\n",
       "      <td>21.0</td>\n",
       "      <td>0.0</td>\n",
       "    </tr>\n",
       "    <tr>\n",
       "      <th>329740</th>\n",
       "      <td>2017-06-11 16:40:53</td>\n",
       "      <td>1</td>\n",
       "      <td>view</td>\n",
       "      <td>android</td>\n",
       "      <td>search</td>\n",
       "      <td>2510107</td>\n",
       "      <td>7.0</td>\n",
       "      <td>120.0</td>\n",
       "      <td>95.0</td>\n",
       "      <td>1.0</td>\n",
       "    </tr>\n",
       "    <tr>\n",
       "      <th>564486</th>\n",
       "      <td>2017-06-10 16:49:25</td>\n",
       "      <td>1</td>\n",
       "      <td>view</td>\n",
       "      <td>android</td>\n",
       "      <td>notification_center</td>\n",
       "      <td>2818118</td>\n",
       "      <td>2.0</td>\n",
       "      <td>310.0</td>\n",
       "      <td>1.0</td>\n",
       "      <td>0.0</td>\n",
       "    </tr>\n",
       "    <tr>\n",
       "      <th>600709</th>\n",
       "      <td>2017-06-11 16:38:54</td>\n",
       "      <td>1</td>\n",
       "      <td>view</td>\n",
       "      <td>android</td>\n",
       "      <td>search</td>\n",
       "      <td>2815681</td>\n",
       "      <td>4.0</td>\n",
       "      <td>1755.0</td>\n",
       "      <td>77.0</td>\n",
       "      <td>2.0</td>\n",
       "    </tr>\n",
       "    <tr>\n",
       "      <th>517409</th>\n",
       "      <td>2017-06-11 16:44:50</td>\n",
       "      <td>1</td>\n",
       "      <td>view</td>\n",
       "      <td>android</td>\n",
       "      <td>search</td>\n",
       "      <td>1564512</td>\n",
       "      <td>1.0</td>\n",
       "      <td>76.0</td>\n",
       "      <td>83.0</td>\n",
       "      <td>6.0</td>\n",
       "    </tr>\n",
       "    <tr>\n",
       "      <th>563832</th>\n",
       "      <td>2017-06-09 16:37:01</td>\n",
       "      <td>1</td>\n",
       "      <td>view</td>\n",
       "      <td>android</td>\n",
       "      <td>home</td>\n",
       "      <td>2075447</td>\n",
       "      <td>8.0</td>\n",
       "      <td>0.0</td>\n",
       "      <td>23.0</td>\n",
       "      <td>1.0</td>\n",
       "    </tr>\n",
       "    <tr>\n",
       "      <th>382869</th>\n",
       "      <td>2017-06-11 16:45:22</td>\n",
       "      <td>1</td>\n",
       "      <td>view</td>\n",
       "      <td>android</td>\n",
       "      <td>search</td>\n",
       "      <td>2548142</td>\n",
       "      <td>3.0</td>\n",
       "      <td>74.0</td>\n",
       "      <td>46.0</td>\n",
       "      <td>3.0</td>\n",
       "    </tr>\n",
       "    <tr>\n",
       "      <th>682261</th>\n",
       "      <td>2017-06-09 16:36:30</td>\n",
       "      <td>1</td>\n",
       "      <td>view</td>\n",
       "      <td>android</td>\n",
       "      <td>notification_center</td>\n",
       "      <td>1112655</td>\n",
       "      <td>2.0</td>\n",
       "      <td>72.0</td>\n",
       "      <td>29.0</td>\n",
       "      <td>1.0</td>\n",
       "    </tr>\n",
       "    <tr>\n",
       "      <th>767970</th>\n",
       "      <td>2017-06-12 01:03:56</td>\n",
       "      <td>1</td>\n",
       "      <td>view</td>\n",
       "      <td>android</td>\n",
       "      <td>push</td>\n",
       "      <td>2817437</td>\n",
       "      <td>2.0</td>\n",
       "      <td>1961.0</td>\n",
       "      <td>21.0</td>\n",
       "      <td>1.0</td>\n",
       "    </tr>\n",
       "    <tr>\n",
       "      <th>399354</th>\n",
       "      <td>2017-06-11 16:42:22</td>\n",
       "      <td>1</td>\n",
       "      <td>view</td>\n",
       "      <td>android</td>\n",
       "      <td>search</td>\n",
       "      <td>2700119</td>\n",
       "      <td>8.0</td>\n",
       "      <td>90.0</td>\n",
       "      <td>77.0</td>\n",
       "      <td>2.0</td>\n",
       "    </tr>\n",
       "    <tr>\n",
       "      <th>767528</th>\n",
       "      <td>2017-06-11 16:42:54</td>\n",
       "      <td>1</td>\n",
       "      <td>view</td>\n",
       "      <td>android</td>\n",
       "      <td>search</td>\n",
       "      <td>2705113</td>\n",
       "      <td>3.0</td>\n",
       "      <td>120.0</td>\n",
       "      <td>374.0</td>\n",
       "      <td>24.0</td>\n",
       "    </tr>\n",
       "    <tr>\n",
       "      <th>315261</th>\n",
       "      <td>2017-06-11 16:43:54</td>\n",
       "      <td>1</td>\n",
       "      <td>view</td>\n",
       "      <td>android</td>\n",
       "      <td>search</td>\n",
       "      <td>2187872</td>\n",
       "      <td>8.0</td>\n",
       "      <td>101.0</td>\n",
       "      <td>125.0</td>\n",
       "      <td>1.0</td>\n",
       "    </tr>\n",
       "    <tr>\n",
       "      <th>712499</th>\n",
       "      <td>2017-06-11 16:41:11</td>\n",
       "      <td>1</td>\n",
       "      <td>view</td>\n",
       "      <td>android</td>\n",
       "      <td>search</td>\n",
       "      <td>1227188</td>\n",
       "      <td>4.0</td>\n",
       "      <td>241.0</td>\n",
       "      <td>354.0</td>\n",
       "      <td>12.0</td>\n",
       "    </tr>\n",
       "    <tr>\n",
       "      <th>709676</th>\n",
       "      <td>2017-06-11 16:44:24</td>\n",
       "      <td>1</td>\n",
       "      <td>view</td>\n",
       "      <td>android</td>\n",
       "      <td>search</td>\n",
       "      <td>2651700</td>\n",
       "      <td>4.0</td>\n",
       "      <td>129.0</td>\n",
       "      <td>210.0</td>\n",
       "      <td>15.0</td>\n",
       "    </tr>\n",
       "    <tr>\n",
       "      <th>131063</th>\n",
       "      <td>2017-06-11 16:46:54</td>\n",
       "      <td>1</td>\n",
       "      <td>view</td>\n",
       "      <td>android</td>\n",
       "      <td>search</td>\n",
       "      <td>2327307</td>\n",
       "      <td>1.0</td>\n",
       "      <td>71.0</td>\n",
       "      <td>10.0</td>\n",
       "      <td>2.0</td>\n",
       "    </tr>\n",
       "    <tr>\n",
       "      <th>616318</th>\n",
       "      <td>2017-06-09 16:24:03</td>\n",
       "      <td>1</td>\n",
       "      <td>view</td>\n",
       "      <td>android</td>\n",
       "      <td>search</td>\n",
       "      <td>2434312</td>\n",
       "      <td>2.0</td>\n",
       "      <td>32375.0</td>\n",
       "      <td>377.0</td>\n",
       "      <td>8.0</td>\n",
       "    </tr>\n",
       "    <tr>\n",
       "      <th>268392</th>\n",
       "      <td>2017-06-14 21:14:45</td>\n",
       "      <td>1</td>\n",
       "      <td>view</td>\n",
       "      <td>android</td>\n",
       "      <td>home</td>\n",
       "      <td>1970857</td>\n",
       "      <td>4.0</td>\n",
       "      <td>129.0</td>\n",
       "      <td>25.0</td>\n",
       "      <td>2.0</td>\n",
       "    </tr>\n",
       "    <tr>\n",
       "      <th>585192</th>\n",
       "      <td>2017-06-11 16:46:24</td>\n",
       "      <td>1</td>\n",
       "      <td>view</td>\n",
       "      <td>android</td>\n",
       "      <td>search</td>\n",
       "      <td>1379235</td>\n",
       "      <td>4.0</td>\n",
       "      <td>84.0</td>\n",
       "      <td>147.0</td>\n",
       "      <td>9.0</td>\n",
       "    </tr>\n",
       "    <tr>\n",
       "      <th>955333</th>\n",
       "      <td>2017-06-09 16:36:01</td>\n",
       "      <td>1</td>\n",
       "      <td>view</td>\n",
       "      <td>android</td>\n",
       "      <td>home</td>\n",
       "      <td>2817385</td>\n",
       "      <td>4.0</td>\n",
       "      <td>1363.0</td>\n",
       "      <td>21.0</td>\n",
       "      <td>0.0</td>\n",
       "    </tr>\n",
       "    <tr>\n",
       "      <th>914648</th>\n",
       "      <td>2017-06-11 16:40:03</td>\n",
       "      <td>1</td>\n",
       "      <td>view</td>\n",
       "      <td>android</td>\n",
       "      <td>search</td>\n",
       "      <td>2717635</td>\n",
       "      <td>6.0</td>\n",
       "      <td>511.0</td>\n",
       "      <td>260.0</td>\n",
       "      <td>11.0</td>\n",
       "    </tr>\n",
       "    <tr>\n",
       "      <th>959857</th>\n",
       "      <td>2017-06-11 16:41:24</td>\n",
       "      <td>1</td>\n",
       "      <td>view</td>\n",
       "      <td>android</td>\n",
       "      <td>search</td>\n",
       "      <td>1272760</td>\n",
       "      <td>3.0</td>\n",
       "      <td>274.0</td>\n",
       "      <td>221.0</td>\n",
       "      <td>3.0</td>\n",
       "    </tr>\n",
       "    <tr>\n",
       "      <th>709451</th>\n",
       "      <td>2017-06-14 21:14:41</td>\n",
       "      <td>1</td>\n",
       "      <td>view</td>\n",
       "      <td>android</td>\n",
       "      <td>home</td>\n",
       "      <td>1970857</td>\n",
       "      <td>4.0</td>\n",
       "      <td>129.0</td>\n",
       "      <td>25.0</td>\n",
       "      <td>2.0</td>\n",
       "    </tr>\n",
       "    <tr>\n",
       "      <th>35695</th>\n",
       "      <td>2017-06-02 18:19:31</td>\n",
       "      <td>4</td>\n",
       "      <td>view</td>\n",
       "      <td>android</td>\n",
       "      <td>home</td>\n",
       "      <td>2228884</td>\n",
       "      <td>7.0</td>\n",
       "      <td>0.0</td>\n",
       "      <td>27.0</td>\n",
       "      <td>2.0</td>\n",
       "    </tr>\n",
       "    <tr>\n",
       "      <th>768138</th>\n",
       "      <td>2017-06-02 21:15:07</td>\n",
       "      <td>4</td>\n",
       "      <td>view</td>\n",
       "      <td>android</td>\n",
       "      <td>push</td>\n",
       "      <td>2757658</td>\n",
       "      <td>3.0</td>\n",
       "      <td>0.0</td>\n",
       "      <td>45.0</td>\n",
       "      <td>1.0</td>\n",
       "    </tr>\n",
       "    <tr>\n",
       "      <th>495530</th>\n",
       "      <td>2017-06-02 18:12:40</td>\n",
       "      <td>4</td>\n",
       "      <td>view</td>\n",
       "      <td>android</td>\n",
       "      <td>home</td>\n",
       "      <td>621748</td>\n",
       "      <td>2.0</td>\n",
       "      <td>0.0</td>\n",
       "      <td>6.0</td>\n",
       "      <td>0.0</td>\n",
       "    </tr>\n",
       "    <tr>\n",
       "      <th>...</th>\n",
       "      <td>...</td>\n",
       "      <td>...</td>\n",
       "      <td>...</td>\n",
       "      <td>...</td>\n",
       "      <td>...</td>\n",
       "      <td>...</td>\n",
       "      <td>...</td>\n",
       "      <td>...</td>\n",
       "      <td>...</td>\n",
       "      <td>...</td>\n",
       "    </tr>\n",
       "    <tr>\n",
       "      <th>1029501</th>\n",
       "      <td>2017-05-24 03:20:33</td>\n",
       "      <td>4</td>\n",
       "      <td>view</td>\n",
       "      <td>android</td>\n",
       "      <td>home</td>\n",
       "      <td>2685929</td>\n",
       "      <td>4.0</td>\n",
       "      <td>0.0</td>\n",
       "      <td>18.0</td>\n",
       "      <td>0.0</td>\n",
       "    </tr>\n",
       "    <tr>\n",
       "      <th>382921</th>\n",
       "      <td>2017-06-08 19:35:19</td>\n",
       "      <td>4</td>\n",
       "      <td>view</td>\n",
       "      <td>android</td>\n",
       "      <td>home</td>\n",
       "      <td>2722672</td>\n",
       "      <td>4.0</td>\n",
       "      <td>881.0</td>\n",
       "      <td>73.0</td>\n",
       "      <td>1.0</td>\n",
       "    </tr>\n",
       "    <tr>\n",
       "      <th>957069</th>\n",
       "      <td>2017-06-02 17:57:58</td>\n",
       "      <td>4</td>\n",
       "      <td>view</td>\n",
       "      <td>android</td>\n",
       "      <td>push</td>\n",
       "      <td>2672421</td>\n",
       "      <td>3.0</td>\n",
       "      <td>0.0</td>\n",
       "      <td>54.0</td>\n",
       "      <td>3.0</td>\n",
       "    </tr>\n",
       "    <tr>\n",
       "      <th>734451</th>\n",
       "      <td>2017-06-02 22:31:15</td>\n",
       "      <td>4</td>\n",
       "      <td>view</td>\n",
       "      <td>android</td>\n",
       "      <td>push</td>\n",
       "      <td>2762225</td>\n",
       "      <td>4.0</td>\n",
       "      <td>0.0</td>\n",
       "      <td>35.0</td>\n",
       "      <td>1.0</td>\n",
       "    </tr>\n",
       "    <tr>\n",
       "      <th>204642</th>\n",
       "      <td>2017-06-12 00:07:36</td>\n",
       "      <td>4</td>\n",
       "      <td>view</td>\n",
       "      <td>android</td>\n",
       "      <td>browse</td>\n",
       "      <td>2392168</td>\n",
       "      <td>2.0</td>\n",
       "      <td>907.0</td>\n",
       "      <td>51.0</td>\n",
       "      <td>1.0</td>\n",
       "    </tr>\n",
       "    <tr>\n",
       "      <th>711966</th>\n",
       "      <td>2017-06-06 02:02:56</td>\n",
       "      <td>4</td>\n",
       "      <td>view</td>\n",
       "      <td>android</td>\n",
       "      <td>browse</td>\n",
       "      <td>2788791</td>\n",
       "      <td>2.0</td>\n",
       "      <td>744.0</td>\n",
       "      <td>22.0</td>\n",
       "      <td>0.0</td>\n",
       "    </tr>\n",
       "    <tr>\n",
       "      <th>523382</th>\n",
       "      <td>2017-06-02 20:51:39</td>\n",
       "      <td>4</td>\n",
       "      <td>view</td>\n",
       "      <td>android</td>\n",
       "      <td>push</td>\n",
       "      <td>581651</td>\n",
       "      <td>4.0</td>\n",
       "      <td>0.0</td>\n",
       "      <td>12.0</td>\n",
       "      <td>1.0</td>\n",
       "    </tr>\n",
       "    <tr>\n",
       "      <th>382935</th>\n",
       "      <td>2017-06-04 17:43:04</td>\n",
       "      <td>4</td>\n",
       "      <td>view</td>\n",
       "      <td>android</td>\n",
       "      <td>home</td>\n",
       "      <td>2775066</td>\n",
       "      <td>3.0</td>\n",
       "      <td>0.0</td>\n",
       "      <td>29.0</td>\n",
       "      <td>1.0</td>\n",
       "    </tr>\n",
       "    <tr>\n",
       "      <th>313719</th>\n",
       "      <td>2017-05-24 00:59:46</td>\n",
       "      <td>4</td>\n",
       "      <td>view</td>\n",
       "      <td>android</td>\n",
       "      <td>home</td>\n",
       "      <td>2684587</td>\n",
       "      <td>2.0</td>\n",
       "      <td>0.0</td>\n",
       "      <td>28.0</td>\n",
       "      <td>0.0</td>\n",
       "    </tr>\n",
       "    <tr>\n",
       "      <th>421734</th>\n",
       "      <td>2017-06-11 23:53:28</td>\n",
       "      <td>4</td>\n",
       "      <td>view</td>\n",
       "      <td>android</td>\n",
       "      <td>browse_search</td>\n",
       "      <td>2064074</td>\n",
       "      <td>5.0</td>\n",
       "      <td>19.0</td>\n",
       "      <td>15.0</td>\n",
       "      <td>2.0</td>\n",
       "    </tr>\n",
       "    <tr>\n",
       "      <th>268487</th>\n",
       "      <td>2017-06-10 14:40:43</td>\n",
       "      <td>4</td>\n",
       "      <td>view</td>\n",
       "      <td>android</td>\n",
       "      <td>notification_center</td>\n",
       "      <td>2765043</td>\n",
       "      <td>6.0</td>\n",
       "      <td>206.0</td>\n",
       "      <td>130.0</td>\n",
       "      <td>1.0</td>\n",
       "    </tr>\n",
       "    <tr>\n",
       "      <th>186952</th>\n",
       "      <td>2017-05-29 01:34:35</td>\n",
       "      <td>4</td>\n",
       "      <td>view</td>\n",
       "      <td>android</td>\n",
       "      <td>notification_center</td>\n",
       "      <td>424609</td>\n",
       "      <td>3.0</td>\n",
       "      <td>0.0</td>\n",
       "      <td>34.0</td>\n",
       "      <td>0.0</td>\n",
       "    </tr>\n",
       "    <tr>\n",
       "      <th>486036</th>\n",
       "      <td>2017-06-11 23:59:46</td>\n",
       "      <td>4</td>\n",
       "      <td>view</td>\n",
       "      <td>android</td>\n",
       "      <td>browse_search</td>\n",
       "      <td>2828800</td>\n",
       "      <td>4.0</td>\n",
       "      <td>68.0</td>\n",
       "      <td>4.0</td>\n",
       "      <td>0.0</td>\n",
       "    </tr>\n",
       "    <tr>\n",
       "      <th>733491</th>\n",
       "      <td>2017-05-28 04:24:44</td>\n",
       "      <td>4</td>\n",
       "      <td>view</td>\n",
       "      <td>android</td>\n",
       "      <td>notification_center</td>\n",
       "      <td>2716888</td>\n",
       "      <td>1.0</td>\n",
       "      <td>0.0</td>\n",
       "      <td>40.0</td>\n",
       "      <td>1.0</td>\n",
       "    </tr>\n",
       "    <tr>\n",
       "      <th>623111</th>\n",
       "      <td>2017-05-25 01:56:55</td>\n",
       "      <td>4</td>\n",
       "      <td>view</td>\n",
       "      <td>android</td>\n",
       "      <td>home</td>\n",
       "      <td>2680092</td>\n",
       "      <td>3.0</td>\n",
       "      <td>0.0</td>\n",
       "      <td>89.0</td>\n",
       "      <td>5.0</td>\n",
       "    </tr>\n",
       "    <tr>\n",
       "      <th>518875</th>\n",
       "      <td>2017-06-11 03:08:23</td>\n",
       "      <td>4</td>\n",
       "      <td>view</td>\n",
       "      <td>android</td>\n",
       "      <td>home</td>\n",
       "      <td>2797067</td>\n",
       "      <td>3.0</td>\n",
       "      <td>59210.0</td>\n",
       "      <td>1246.0</td>\n",
       "      <td>20.0</td>\n",
       "    </tr>\n",
       "    <tr>\n",
       "      <th>1065820</th>\n",
       "      <td>2017-06-03 17:43:52</td>\n",
       "      <td>4</td>\n",
       "      <td>view</td>\n",
       "      <td>android</td>\n",
       "      <td>home</td>\n",
       "      <td>2768794</td>\n",
       "      <td>1.0</td>\n",
       "      <td>0.0</td>\n",
       "      <td>42.0</td>\n",
       "      <td>0.0</td>\n",
       "    </tr>\n",
       "    <tr>\n",
       "      <th>219584</th>\n",
       "      <td>2017-05-29 18:00:57</td>\n",
       "      <td>4</td>\n",
       "      <td>view</td>\n",
       "      <td>android</td>\n",
       "      <td>home</td>\n",
       "      <td>2730644</td>\n",
       "      <td>4.0</td>\n",
       "      <td>0.0</td>\n",
       "      <td>4.0</td>\n",
       "      <td>0.0</td>\n",
       "    </tr>\n",
       "    <tr>\n",
       "      <th>2535</th>\n",
       "      <td>2017-05-27 03:55:05</td>\n",
       "      <td>4</td>\n",
       "      <td>view</td>\n",
       "      <td>android</td>\n",
       "      <td>home</td>\n",
       "      <td>2708058</td>\n",
       "      <td>4.0</td>\n",
       "      <td>0.0</td>\n",
       "      <td>56.0</td>\n",
       "      <td>0.0</td>\n",
       "    </tr>\n",
       "    <tr>\n",
       "      <th>690322</th>\n",
       "      <td>2017-06-11 03:12:17</td>\n",
       "      <td>4</td>\n",
       "      <td>view</td>\n",
       "      <td>android</td>\n",
       "      <td>notification_center</td>\n",
       "      <td>1582542</td>\n",
       "      <td>2.0</td>\n",
       "      <td>6.0</td>\n",
       "      <td>4.0</td>\n",
       "      <td>0.0</td>\n",
       "    </tr>\n",
       "    <tr>\n",
       "      <th>314416</th>\n",
       "      <td>2017-06-11 23:56:56</td>\n",
       "      <td>4</td>\n",
       "      <td>view</td>\n",
       "      <td>android</td>\n",
       "      <td>browse_search</td>\n",
       "      <td>2817375</td>\n",
       "      <td>1.0</td>\n",
       "      <td>1081.0</td>\n",
       "      <td>9.0</td>\n",
       "      <td>0.0</td>\n",
       "    </tr>\n",
       "    <tr>\n",
       "      <th>546097</th>\n",
       "      <td>2017-06-12 00:10:36</td>\n",
       "      <td>4</td>\n",
       "      <td>view</td>\n",
       "      <td>android</td>\n",
       "      <td>browse</td>\n",
       "      <td>2825119</td>\n",
       "      <td>6.0</td>\n",
       "      <td>25584.0</td>\n",
       "      <td>2028.0</td>\n",
       "      <td>40.0</td>\n",
       "    </tr>\n",
       "    <tr>\n",
       "      <th>956887</th>\n",
       "      <td>2017-06-03 03:20:42</td>\n",
       "      <td>4</td>\n",
       "      <td>view</td>\n",
       "      <td>android</td>\n",
       "      <td>home</td>\n",
       "      <td>2765470</td>\n",
       "      <td>2.0</td>\n",
       "      <td>0.0</td>\n",
       "      <td>12.0</td>\n",
       "      <td>0.0</td>\n",
       "    </tr>\n",
       "    <tr>\n",
       "      <th>525095</th>\n",
       "      <td>2017-05-24 19:58:20</td>\n",
       "      <td>4</td>\n",
       "      <td>view</td>\n",
       "      <td>android</td>\n",
       "      <td>home</td>\n",
       "      <td>2690057</td>\n",
       "      <td>1.0</td>\n",
       "      <td>0.0</td>\n",
       "      <td>26.0</td>\n",
       "      <td>0.0</td>\n",
       "    </tr>\n",
       "    <tr>\n",
       "      <th>624408</th>\n",
       "      <td>2017-06-04 02:31:17</td>\n",
       "      <td>4</td>\n",
       "      <td>view</td>\n",
       "      <td>android</td>\n",
       "      <td>push</td>\n",
       "      <td>2676446</td>\n",
       "      <td>3.0</td>\n",
       "      <td>0.0</td>\n",
       "      <td>45.0</td>\n",
       "      <td>1.0</td>\n",
       "    </tr>\n",
       "    <tr>\n",
       "      <th>382684</th>\n",
       "      <td>2017-06-08 19:34:45</td>\n",
       "      <td>4</td>\n",
       "      <td>view</td>\n",
       "      <td>android</td>\n",
       "      <td>home</td>\n",
       "      <td>2810025</td>\n",
       "      <td>6.0</td>\n",
       "      <td>966.0</td>\n",
       "      <td>37.0</td>\n",
       "      <td>0.0</td>\n",
       "    </tr>\n",
       "    <tr>\n",
       "      <th>400744</th>\n",
       "      <td>2017-06-03 03:21:12</td>\n",
       "      <td>4</td>\n",
       "      <td>view</td>\n",
       "      <td>android</td>\n",
       "      <td>home</td>\n",
       "      <td>2704742</td>\n",
       "      <td>1.0</td>\n",
       "      <td>0.0</td>\n",
       "      <td>59.0</td>\n",
       "      <td>1.0</td>\n",
       "    </tr>\n",
       "    <tr>\n",
       "      <th>644442</th>\n",
       "      <td>2017-06-02 00:24:23</td>\n",
       "      <td>4</td>\n",
       "      <td>view</td>\n",
       "      <td>android</td>\n",
       "      <td>notification_center</td>\n",
       "      <td>1405722</td>\n",
       "      <td>2.0</td>\n",
       "      <td>0.0</td>\n",
       "      <td>31.0</td>\n",
       "      <td>1.0</td>\n",
       "    </tr>\n",
       "    <tr>\n",
       "      <th>524888</th>\n",
       "      <td>2017-06-11 03:05:24</td>\n",
       "      <td>4</td>\n",
       "      <td>view</td>\n",
       "      <td>android</td>\n",
       "      <td>home</td>\n",
       "      <td>2823918</td>\n",
       "      <td>1.0</td>\n",
       "      <td>780.0</td>\n",
       "      <td>28.0</td>\n",
       "      <td>0.0</td>\n",
       "    </tr>\n",
       "    <tr>\n",
       "      <th>565461</th>\n",
       "      <td>2017-06-02 18:09:45</td>\n",
       "      <td>4</td>\n",
       "      <td>view</td>\n",
       "      <td>android</td>\n",
       "      <td>home</td>\n",
       "      <td>2632900</td>\n",
       "      <td>1.0</td>\n",
       "      <td>0.0</td>\n",
       "      <td>82.0</td>\n",
       "      <td>4.0</td>\n",
       "    </tr>\n",
       "  </tbody>\n",
       "</table>\n",
       "<p>100 rows × 10 columns</p>\n",
       "</div>"
      ],
      "text/plain": [
       "                  event_time  user_id event  channel               origin  \\\n",
       "544306   2017-06-08 15:10:05        1  view  android  notification_center   \n",
       "709950   2017-06-11 16:39:48        1  view  android               search   \n",
       "596723   2017-06-11 16:40:16        1  view  android               search   \n",
       "90092    2017-06-11 16:43:24        1  view  android               search   \n",
       "642116   2017-06-11 16:39:24        1  view  android               search   \n",
       "1064533  2017-06-09 16:29:41        1  view  android                 home   \n",
       "329740   2017-06-11 16:40:53        1  view  android               search   \n",
       "564486   2017-06-10 16:49:25        1  view  android  notification_center   \n",
       "600709   2017-06-11 16:38:54        1  view  android               search   \n",
       "517409   2017-06-11 16:44:50        1  view  android               search   \n",
       "563832   2017-06-09 16:37:01        1  view  android                 home   \n",
       "382869   2017-06-11 16:45:22        1  view  android               search   \n",
       "682261   2017-06-09 16:36:30        1  view  android  notification_center   \n",
       "767970   2017-06-12 01:03:56        1  view  android                 push   \n",
       "399354   2017-06-11 16:42:22        1  view  android               search   \n",
       "767528   2017-06-11 16:42:54        1  view  android               search   \n",
       "315261   2017-06-11 16:43:54        1  view  android               search   \n",
       "712499   2017-06-11 16:41:11        1  view  android               search   \n",
       "709676   2017-06-11 16:44:24        1  view  android               search   \n",
       "131063   2017-06-11 16:46:54        1  view  android               search   \n",
       "616318   2017-06-09 16:24:03        1  view  android               search   \n",
       "268392   2017-06-14 21:14:45        1  view  android                 home   \n",
       "585192   2017-06-11 16:46:24        1  view  android               search   \n",
       "955333   2017-06-09 16:36:01        1  view  android                 home   \n",
       "914648   2017-06-11 16:40:03        1  view  android               search   \n",
       "959857   2017-06-11 16:41:24        1  view  android               search   \n",
       "709451   2017-06-14 21:14:41        1  view  android                 home   \n",
       "35695    2017-06-02 18:19:31        4  view  android                 home   \n",
       "768138   2017-06-02 21:15:07        4  view  android                 push   \n",
       "495530   2017-06-02 18:12:40        4  view  android                 home   \n",
       "...                      ...      ...   ...      ...                  ...   \n",
       "1029501  2017-05-24 03:20:33        4  view  android                 home   \n",
       "382921   2017-06-08 19:35:19        4  view  android                 home   \n",
       "957069   2017-06-02 17:57:58        4  view  android                 push   \n",
       "734451   2017-06-02 22:31:15        4  view  android                 push   \n",
       "204642   2017-06-12 00:07:36        4  view  android               browse   \n",
       "711966   2017-06-06 02:02:56        4  view  android               browse   \n",
       "523382   2017-06-02 20:51:39        4  view  android                 push   \n",
       "382935   2017-06-04 17:43:04        4  view  android                 home   \n",
       "313719   2017-05-24 00:59:46        4  view  android                 home   \n",
       "421734   2017-06-11 23:53:28        4  view  android        browse_search   \n",
       "268487   2017-06-10 14:40:43        4  view  android  notification_center   \n",
       "186952   2017-05-29 01:34:35        4  view  android  notification_center   \n",
       "486036   2017-06-11 23:59:46        4  view  android        browse_search   \n",
       "733491   2017-05-28 04:24:44        4  view  android  notification_center   \n",
       "623111   2017-05-25 01:56:55        4  view  android                 home   \n",
       "518875   2017-06-11 03:08:23        4  view  android                 home   \n",
       "1065820  2017-06-03 17:43:52        4  view  android                 home   \n",
       "219584   2017-05-29 18:00:57        4  view  android                 home   \n",
       "2535     2017-05-27 03:55:05        4  view  android                 home   \n",
       "690322   2017-06-11 03:12:17        4  view  android  notification_center   \n",
       "314416   2017-06-11 23:56:56        4  view  android        browse_search   \n",
       "546097   2017-06-12 00:10:36        4  view  android               browse   \n",
       "956887   2017-06-03 03:20:42        4  view  android                 home   \n",
       "525095   2017-05-24 19:58:20        4  view  android                 home   \n",
       "624408   2017-06-04 02:31:17        4  view  android                 push   \n",
       "382684   2017-06-08 19:34:45        4  view  android                 home   \n",
       "400744   2017-06-03 03:21:12        4  view  android                 home   \n",
       "644442   2017-06-02 00:24:23        4  view  android  notification_center   \n",
       "524888   2017-06-11 03:05:24        4  view  android                 home   \n",
       "565461   2017-06-02 18:09:45        4  view  android                 home   \n",
       "\n",
       "           ad_id  images_count  ad_impressions  ad_views  ad_messages  \n",
       "544306   2116768           3.0          1317.0      19.0          0.0  \n",
       "709950   2784220           3.0           264.0      62.0          2.0  \n",
       "596723   1232646           4.0          1090.0     224.0          7.0  \n",
       "90092     337350           4.0            42.0      24.0          0.0  \n",
       "642116   2325381           3.0           795.0     177.0          0.0  \n",
       "1064533  2817385           4.0          1363.0      21.0          0.0  \n",
       "329740   2510107           7.0           120.0      95.0          1.0  \n",
       "564486   2818118           2.0           310.0       1.0          0.0  \n",
       "600709   2815681           4.0          1755.0      77.0          2.0  \n",
       "517409   1564512           1.0            76.0      83.0          6.0  \n",
       "563832   2075447           8.0             0.0      23.0          1.0  \n",
       "382869   2548142           3.0            74.0      46.0          3.0  \n",
       "682261   1112655           2.0            72.0      29.0          1.0  \n",
       "767970   2817437           2.0          1961.0      21.0          1.0  \n",
       "399354   2700119           8.0            90.0      77.0          2.0  \n",
       "767528   2705113           3.0           120.0     374.0         24.0  \n",
       "315261   2187872           8.0           101.0     125.0          1.0  \n",
       "712499   1227188           4.0           241.0     354.0         12.0  \n",
       "709676   2651700           4.0           129.0     210.0         15.0  \n",
       "131063   2327307           1.0            71.0      10.0          2.0  \n",
       "616318   2434312           2.0         32375.0     377.0          8.0  \n",
       "268392   1970857           4.0           129.0      25.0          2.0  \n",
       "585192   1379235           4.0            84.0     147.0          9.0  \n",
       "955333   2817385           4.0          1363.0      21.0          0.0  \n",
       "914648   2717635           6.0           511.0     260.0         11.0  \n",
       "959857   1272760           3.0           274.0     221.0          3.0  \n",
       "709451   1970857           4.0           129.0      25.0          2.0  \n",
       "35695    2228884           7.0             0.0      27.0          2.0  \n",
       "768138   2757658           3.0             0.0      45.0          1.0  \n",
       "495530    621748           2.0             0.0       6.0          0.0  \n",
       "...          ...           ...             ...       ...          ...  \n",
       "1029501  2685929           4.0             0.0      18.0          0.0  \n",
       "382921   2722672           4.0           881.0      73.0          1.0  \n",
       "957069   2672421           3.0             0.0      54.0          3.0  \n",
       "734451   2762225           4.0             0.0      35.0          1.0  \n",
       "204642   2392168           2.0           907.0      51.0          1.0  \n",
       "711966   2788791           2.0           744.0      22.0          0.0  \n",
       "523382    581651           4.0             0.0      12.0          1.0  \n",
       "382935   2775066           3.0             0.0      29.0          1.0  \n",
       "313719   2684587           2.0             0.0      28.0          0.0  \n",
       "421734   2064074           5.0            19.0      15.0          2.0  \n",
       "268487   2765043           6.0           206.0     130.0          1.0  \n",
       "186952    424609           3.0             0.0      34.0          0.0  \n",
       "486036   2828800           4.0            68.0       4.0          0.0  \n",
       "733491   2716888           1.0             0.0      40.0          1.0  \n",
       "623111   2680092           3.0             0.0      89.0          5.0  \n",
       "518875   2797067           3.0         59210.0    1246.0         20.0  \n",
       "1065820  2768794           1.0             0.0      42.0          0.0  \n",
       "219584   2730644           4.0             0.0       4.0          0.0  \n",
       "2535     2708058           4.0             0.0      56.0          0.0  \n",
       "690322   1582542           2.0             6.0       4.0          0.0  \n",
       "314416   2817375           1.0          1081.0       9.0          0.0  \n",
       "546097   2825119           6.0         25584.0    2028.0         40.0  \n",
       "956887   2765470           2.0             0.0      12.0          0.0  \n",
       "525095   2690057           1.0             0.0      26.0          0.0  \n",
       "624408   2676446           3.0             0.0      45.0          1.0  \n",
       "382684   2810025           6.0           966.0      37.0          0.0  \n",
       "400744   2704742           1.0             0.0      59.0          1.0  \n",
       "644442   1405722           2.0             0.0      31.0          1.0  \n",
       "524888   2823918           1.0           780.0      28.0          0.0  \n",
       "565461   2632900           1.0             0.0      82.0          4.0  \n",
       "\n",
       "[100 rows x 10 columns]"
      ]
     },
     "execution_count": 162,
     "metadata": {},
     "output_type": "execute_result"
    }
   ],
   "source": [
    "userdata.head(10)"
   ]
  },
  {
   "cell_type": "code",
   "execution_count": 163,
   "metadata": {
    "collapsed": false
   },
   "outputs": [
    {
     "data": {
      "text/plain": [
       "(2143889, 10)"
      ]
     },
     "execution_count": 163,
     "metadata": {},
     "output_type": "execute_result"
    }
   ],
   "source": [
    "userdata.shape"
   ]
  },
  {
   "cell_type": "code",
   "execution_count": 59,
   "metadata": {
    "collapsed": false
   },
   "outputs": [
    {
     "name": "stdout",
     "output_type": "stream",
     "text": [
      "Number of User Data Transactions: 2143889\n"
     ]
    }
   ],
   "source": [
    "print \"Number of User Data Transactions:\", len(userdata)"
   ]
  },
  {
   "cell_type": "code",
   "execution_count": 60,
   "metadata": {
    "collapsed": false
   },
   "outputs": [
    {
     "name": "stdout",
     "output_type": "stream",
     "text": [
      "Number of Unique Users: 12365\n"
     ]
    }
   ],
   "source": [
    "print \"Number of Unique Users:\", len(userdata['user_id'].unique())"
   ]
  },
  {
   "cell_type": "code",
   "execution_count": 61,
   "metadata": {
    "collapsed": false
   },
   "outputs": [
    {
     "data": {
      "text/plain": [
       "array(['view', 'first_message'], dtype=object)"
      ]
     },
     "execution_count": 61,
     "metadata": {},
     "output_type": "execute_result"
    }
   ],
   "source": [
    "userdata['event'].unique()"
   ]
  },
  {
   "cell_type": "code",
   "execution_count": 62,
   "metadata": {
    "collapsed": false
   },
   "outputs": [
    {
     "data": {
      "text/plain": [
       "array(['android', 'desktop', 'ios'], dtype=object)"
      ]
     },
     "execution_count": 62,
     "metadata": {},
     "output_type": "execute_result"
    }
   ],
   "source": [
    "userdata['channel'].unique()"
   ]
  },
  {
   "cell_type": "code",
   "execution_count": 63,
   "metadata": {
    "collapsed": false
   },
   "outputs": [
    {
     "data": {
      "text/plain": [
       "array(['notification_center', 'search', 'home', 'push', 'browse',\n",
       "       'browse_search', 'drawer', nan, 'deeplink'], dtype=object)"
      ]
     },
     "execution_count": 63,
     "metadata": {},
     "output_type": "execute_result"
    }
   ],
   "source": [
    "userdata['origin'].unique() ## NAN Present"
   ]
  },
  {
   "cell_type": "code",
   "execution_count": 64,
   "metadata": {
    "collapsed": false
   },
   "outputs": [
    {
     "name": "stdout",
     "output_type": "stream",
     "text": [
      "Number of Unique Ad_ID:  535651\n"
     ]
    }
   ],
   "source": [
    "print \"Number of Unique Ad_ID: \", len(userdata['ad_id'].unique())"
   ]
  },
  {
   "cell_type": "code",
   "execution_count": 65,
   "metadata": {
    "collapsed": false
   },
   "outputs": [
    {
     "data": {
      "text/plain": [
       "count    2.077478e+06\n",
       "mean     2.955274e+00\n",
       "std      1.798261e+00\n",
       "min      0.000000e+00\n",
       "25%      2.000000e+00\n",
       "50%      3.000000e+00\n",
       "75%      4.000000e+00\n",
       "max      1.500000e+01\n",
       "Name: images_count, dtype: float64"
      ]
     },
     "execution_count": 65,
     "metadata": {},
     "output_type": "execute_result"
    }
   ],
   "source": [
    "userdata['images_count'].describe()"
   ]
  },
  {
   "cell_type": "code",
   "execution_count": 66,
   "metadata": {
    "collapsed": false
   },
   "outputs": [
    {
     "data": {
      "text/plain": [
       "count    2.095669e+06\n",
       "mean     1.745520e+03\n",
       "std      2.097932e+04\n",
       "min      0.000000e+00\n",
       "25%      0.000000e+00\n",
       "50%      0.000000e+00\n",
       "75%      2.130000e+02\n",
       "max      6.940120e+05\n",
       "Name: ad_impressions, dtype: float64"
      ]
     },
     "execution_count": 66,
     "metadata": {},
     "output_type": "execute_result"
    }
   ],
   "source": [
    "userdata['ad_impressions'].describe()"
   ]
  },
  {
   "cell_type": "code",
   "execution_count": 67,
   "metadata": {
    "collapsed": false
   },
   "outputs": [
    {
     "data": {
      "text/plain": [
       "count    2.095669e+06\n",
       "mean     6.360186e+01\n",
       "std      2.624783e+02\n",
       "min      0.000000e+00\n",
       "25%      1.100000e+01\n",
       "50%      2.600000e+01\n",
       "75%      5.500000e+01\n",
       "max      7.725000e+03\n",
       "Name: ad_views, dtype: float64"
      ]
     },
     "execution_count": 67,
     "metadata": {},
     "output_type": "execute_result"
    }
   ],
   "source": [
    "userdata['ad_views'].describe()"
   ]
  },
  {
   "cell_type": "code",
   "execution_count": 68,
   "metadata": {
    "collapsed": false
   },
   "outputs": [
    {
     "data": {
      "text/plain": [
       "count    2.095669e+06\n",
       "mean     1.940905e+00\n",
       "std      6.053958e+00\n",
       "min      0.000000e+00\n",
       "25%      0.000000e+00\n",
       "50%      1.000000e+00\n",
       "75%      2.000000e+00\n",
       "max      1.890000e+02\n",
       "Name: ad_messages, dtype: float64"
      ]
     },
     "execution_count": 68,
     "metadata": {},
     "output_type": "execute_result"
    }
   ],
   "source": [
    "userdata['ad_messages'].describe()"
   ]
  },
  {
   "cell_type": "markdown",
   "metadata": {},
   "source": [
    "## 1.3 Exploring User Messages"
   ]
  },
  {
   "cell_type": "code",
   "execution_count": 69,
   "metadata": {
    "collapsed": false
   },
   "outputs": [
    {
     "data": {
      "text/html": [
       "<div>\n",
       "<table border=\"1\" class=\"dataframe\">\n",
       "  <thead>\n",
       "    <tr style=\"text-align: right;\">\n",
       "      <th></th>\n",
       "      <th>user_id</th>\n",
       "      <th>category_id</th>\n",
       "      <th>ad_id</th>\n",
       "    </tr>\n",
       "  </thead>\n",
       "  <tbody>\n",
       "    <tr>\n",
       "      <th>0</th>\n",
       "      <td>1</td>\n",
       "      <td>859</td>\n",
       "      <td>1806476</td>\n",
       "    </tr>\n",
       "    <tr>\n",
       "      <th>1</th>\n",
       "      <td>3</td>\n",
       "      <td>800</td>\n",
       "      <td>2131700</td>\n",
       "    </tr>\n",
       "    <tr>\n",
       "      <th>2</th>\n",
       "      <td>3</td>\n",
       "      <td>800</td>\n",
       "      <td>2734107</td>\n",
       "    </tr>\n",
       "    <tr>\n",
       "      <th>3</th>\n",
       "      <td>3</td>\n",
       "      <td>800</td>\n",
       "      <td>2877209</td>\n",
       "    </tr>\n",
       "    <tr>\n",
       "      <th>4</th>\n",
       "      <td>3</td>\n",
       "      <td>800</td>\n",
       "      <td>2877209</td>\n",
       "    </tr>\n",
       "    <tr>\n",
       "      <th>5</th>\n",
       "      <td>4</td>\n",
       "      <td>815</td>\n",
       "      <td>2883211</td>\n",
       "    </tr>\n",
       "    <tr>\n",
       "      <th>6</th>\n",
       "      <td>7</td>\n",
       "      <td>815</td>\n",
       "      <td>2429412</td>\n",
       "    </tr>\n",
       "    <tr>\n",
       "      <th>7</th>\n",
       "      <td>7</td>\n",
       "      <td>815</td>\n",
       "      <td>2886810</td>\n",
       "    </tr>\n",
       "    <tr>\n",
       "      <th>8</th>\n",
       "      <td>7</td>\n",
       "      <td>815</td>\n",
       "      <td>2886804</td>\n",
       "    </tr>\n",
       "    <tr>\n",
       "      <th>9</th>\n",
       "      <td>7</td>\n",
       "      <td>362</td>\n",
       "      <td>2909301</td>\n",
       "    </tr>\n",
       "  </tbody>\n",
       "</table>\n",
       "</div>"
      ],
      "text/plain": [
       "   user_id  category_id    ad_id\n",
       "0        1          859  1806476\n",
       "1        3          800  2131700\n",
       "2        3          800  2734107\n",
       "3        3          800  2877209\n",
       "4        3          800  2877209\n",
       "5        4          815  2883211\n",
       "6        7          815  2429412\n",
       "7        7          815  2886810\n",
       "8        7          815  2886804\n",
       "9        7          362  2909301"
      ]
     },
     "execution_count": 69,
     "metadata": {},
     "output_type": "execute_result"
    }
   ],
   "source": [
    "user_messages.head(10)"
   ]
  },
  {
   "cell_type": "code",
   "execution_count": 70,
   "metadata": {
    "collapsed": false
   },
   "outputs": [
    {
     "name": "stdout",
     "output_type": "stream",
     "text": [
      "Number of Users: 7161\n"
     ]
    }
   ],
   "source": [
    "print \"Number of Users:\", len(user_messages['user_id'].unique())"
   ]
  },
  {
   "cell_type": "code",
   "execution_count": 71,
   "metadata": {
    "collapsed": false
   },
   "outputs": [
    {
     "name": "stdout",
     "output_type": "stream",
     "text": [
      " Number of Categories: 10\n"
     ]
    }
   ],
   "source": [
    "print \" Number of Categories:\", len(user_messages['category_id'].unique())"
   ]
  },
  {
   "cell_type": "code",
   "execution_count": 72,
   "metadata": {
    "collapsed": false
   },
   "outputs": [
    {
     "data": {
      "text/plain": [
       "array([    1,     3,     4, ..., 15056, 15061, 15066])"
      ]
     },
     "execution_count": 72,
     "metadata": {},
     "output_type": "execute_result"
    }
   ],
   "source": [
    "user_messages['user_id'].unique()"
   ]
  },
  {
   "cell_type": "code",
   "execution_count": 73,
   "metadata": {
    "collapsed": false
   },
   "outputs": [
    {
     "data": {
      "text/plain": [
       "(21153, 3)"
      ]
     },
     "execution_count": 73,
     "metadata": {},
     "output_type": "execute_result"
    }
   ],
   "source": [
    "user_messages.shape"
   ]
  },
  {
   "cell_type": "code",
   "execution_count": 74,
   "metadata": {
    "collapsed": false
   },
   "outputs": [
    {
     "data": {
      "text/plain": [
       "numpy.int64"
      ]
     },
     "execution_count": 74,
     "metadata": {},
     "output_type": "execute_result"
    }
   ],
   "source": [
    "type(user_messages['user_id'][0])"
   ]
  },
  {
   "cell_type": "code",
   "execution_count": 77,
   "metadata": {
    "collapsed": false
   },
   "outputs": [
    {
     "data": {
      "text/html": [
       "<div>\n",
       "<table border=\"1\" class=\"dataframe\">\n",
       "  <thead>\n",
       "    <tr style=\"text-align: right;\">\n",
       "      <th></th>\n",
       "      <th>user_id</th>\n",
       "      <th>category_id</th>\n",
       "      <th>ad_id</th>\n",
       "    </tr>\n",
       "  </thead>\n",
       "  <tbody>\n",
       "    <tr>\n",
       "      <th>12167</th>\n",
       "      <td>7597</td>\n",
       "      <td>362</td>\n",
       "      <td>1730320</td>\n",
       "    </tr>\n",
       "    <tr>\n",
       "      <th>19091</th>\n",
       "      <td>11938</td>\n",
       "      <td>362</td>\n",
       "      <td>2388804</td>\n",
       "    </tr>\n",
       "    <tr>\n",
       "      <th>11279</th>\n",
       "      <td>6452</td>\n",
       "      <td>362</td>\n",
       "      <td>1238103</td>\n",
       "    </tr>\n",
       "    <tr>\n",
       "      <th>11280</th>\n",
       "      <td>6452</td>\n",
       "      <td>362</td>\n",
       "      <td>2187575</td>\n",
       "    </tr>\n",
       "    <tr>\n",
       "      <th>11281</th>\n",
       "      <td>6452</td>\n",
       "      <td>362</td>\n",
       "      <td>2863136</td>\n",
       "    </tr>\n",
       "  </tbody>\n",
       "</table>\n",
       "</div>"
      ],
      "text/plain": [
       "       user_id  category_id    ad_id\n",
       "12167     7597          362  1730320\n",
       "19091    11938          362  2388804\n",
       "11279     6452          362  1238103\n",
       "11280     6452          362  2187575\n",
       "11281     6452          362  2863136"
      ]
     },
     "execution_count": 77,
     "metadata": {},
     "output_type": "execute_result"
    }
   ],
   "source": [
    "user_messages.sort_values('category_id',inplace=True)\n",
    "user_messages.head(5)"
   ]
  },
  {
   "cell_type": "markdown",
   "metadata": {},
   "source": [
    "## 1.4 Exploring Sample Prediction File"
   ]
  },
  {
   "cell_type": "code",
   "execution_count": 75,
   "metadata": {
    "collapsed": false
   },
   "outputs": [
    {
     "data": {
      "text/html": [
       "<div>\n",
       "<table border=\"1\" class=\"dataframe\">\n",
       "  <thead>\n",
       "    <tr style=\"text-align: right;\">\n",
       "      <th></th>\n",
       "      <th>user_id</th>\n",
       "      <th>category_id</th>\n",
       "    </tr>\n",
       "  </thead>\n",
       "  <tbody>\n",
       "    <tr>\n",
       "      <th>0</th>\n",
       "      <td>2</td>\n",
       "      <td>800</td>\n",
       "    </tr>\n",
       "    <tr>\n",
       "      <th>1</th>\n",
       "      <td>6</td>\n",
       "      <td>815</td>\n",
       "    </tr>\n",
       "    <tr>\n",
       "      <th>2</th>\n",
       "      <td>14</td>\n",
       "      <td>811</td>\n",
       "    </tr>\n",
       "    <tr>\n",
       "      <th>3</th>\n",
       "      <td>14</td>\n",
       "      <td>800</td>\n",
       "    </tr>\n",
       "    <tr>\n",
       "      <th>4</th>\n",
       "      <td>17</td>\n",
       "      <td>815</td>\n",
       "    </tr>\n",
       "  </tbody>\n",
       "</table>\n",
       "</div>"
      ],
      "text/plain": [
       "   user_id  category_id\n",
       "0        2          800\n",
       "1        6          815\n",
       "2       14          811\n",
       "3       14          800\n",
       "4       17          815"
      ]
     },
     "execution_count": 75,
     "metadata": {},
     "output_type": "execute_result"
    }
   ],
   "source": [
    "test.head()"
   ]
  },
  {
   "cell_type": "code",
   "execution_count": 76,
   "metadata": {
    "collapsed": false
   },
   "outputs": [
    {
     "name": "stdout",
     "output_type": "stream",
     "text": [
      "No. of Test Users: 10507\n",
      "No. of Unique Categories: 10\n"
     ]
    }
   ],
   "source": [
    "print \"No. of Test Users:\",len(test['user_id'])\n",
    "print \"No. of Unique Categories:\", len(test['category_id'].unique())"
   ]
  },
  {
   "cell_type": "markdown",
   "metadata": {},
   "source": [
    "## 2.0 Naive Submission"
   ]
  },
  {
   "cell_type": "markdown",
   "metadata": {},
   "source": [
    "Popular Recommendation"
   ]
  },
  {
   "cell_type": "code",
   "execution_count": 78,
   "metadata": {
    "collapsed": false
   },
   "outputs": [
    {
     "data": {
      "text/plain": [
       "array([362, 800, 806, 811, 815, 853, 859, 881, 887, 888])"
      ]
     },
     "execution_count": 78,
     "metadata": {},
     "output_type": "execute_result"
    }
   ],
   "source": [
    "category"
   ]
  },
  {
   "cell_type": "code",
   "execution_count": 108,
   "metadata": {
    "collapsed": true
   },
   "outputs": [],
   "source": [
    "def result_entry(x):\n",
    "    val = '['+str(x[0])+', '+str(x[1])+', '+str(x[2])+', '+str(x[3])+', '+\\\n",
    "              str(x[4])+', '+str(x[5])+', '+str(x[6])+', '+str(x[7])+', '+\\\n",
    "              str(x[7])+', '+str(x[8])+', '+str(x[9])+']'\n",
    "    return val"
   ]
  },
  {
   "cell_type": "code",
   "execution_count": 109,
   "metadata": {
    "collapsed": true
   },
   "outputs": [],
   "source": [
    "pred = list()\n",
    "for i in xrange(10): \n",
    "    df1 = user_messages[user_messages['category_id']== category[i]]\n",
    "    ads_all = list(df1['ad_id'])\n",
    "    ads_uni = df1['ad_id'].unique()\n",
    "\n",
    "    add_freq = list()\n",
    "\n",
    "    for i in xrange(len(ads_uni)):\n",
    "        c = ads_all.count(ads_uni[i])\n",
    "        add_freq.append(c)\n",
    "    \n",
    "    d = {'Frequency': add_freq,'ad_id': ads_uni}\n",
    "    d1 = df(data = d)\n",
    "\n",
    "    d1.sort_values('Frequency',ascending = False,inplace = True)\n",
    "\n",
    "    d1 = d1.head(10)\n",
    "\n",
    "    ads_pred = list(d1['ad_id'])\n",
    "    ads_entry = result_entry(ads_pred)\n",
    "    \n",
    "    pred.append(ads_entry)"
   ]
  },
  {
   "cell_type": "code",
   "execution_count": 110,
   "metadata": {
    "collapsed": false
   },
   "outputs": [
    {
     "data": {
      "text/plain": [
       "['[2406697, 2853312, 2598159, 2437215, 2137557, 2839263, 2705180, 2574889, 2574889, 2873173, 2900594]',\n",
       " '[2891500, 2898379, 2911000, 2898476, 2031170, 2869844, 2877849, 2874589, 2874589, 2887420, 2732959]',\n",
       " '[1720784, 2886467, 2895717, 2835598, 2896045, 2825149, 2208312, 2742600, 2742600, 2870851, 2917387]',\n",
       " '[2624021, 2753896, 2881080, 2899362, 2869986, 2370688, 2899968, 2586092, 2586092, 2861011, 2887602]',\n",
       " '[2882036, 2827310, 2888041, 2892684, 2831841, 2897623, 2885081, 2880011, 2880011, 2920781, 2887862]',\n",
       " '[2871638, 2893130, 1998679, 2874121, 2535492, 2892871, 2438365, 724136, 724136, 2841165, 272573]',\n",
       " '[2567368, 2880807, 2270156, 2721400, 1149112, 2799525, 2848893, 2303094, 2303094, 2883995, 1998464]',\n",
       " '[2658874, 2519991, 2880278, 2648807, 2662331, 2794828, 2889904, 395414, 395414, 2119965, 1700433]',\n",
       " '[2870873, 2677927, 2906282, 2851216, 2512096, 854802, 2873966, 2887773, 2887773, 2041846, 2238881]',\n",
       " '[2882472, 2873541, 2246591, 2880088, 2895915, 2839650, 2895649, 2117718, 2117718, 2909131, 1725410]']"
      ]
     },
     "execution_count": 110,
     "metadata": {},
     "output_type": "execute_result"
    }
   ],
   "source": [
    "pred"
   ]
  },
  {
   "cell_type": "code",
   "execution_count": 113,
   "metadata": {
    "collapsed": false
   },
   "outputs": [],
   "source": [
    "category = list(category)\n",
    "pred_test = list()\n",
    "for i in xrange(len(test)):\n",
    "    ind = category.index(test['category_id'][i])\n",
    "    pred_test.append(pred[ind])"
   ]
  },
  {
   "cell_type": "code",
   "execution_count": 115,
   "metadata": {
    "collapsed": false
   },
   "outputs": [
    {
     "data": {
      "text/plain": [
       "10507"
      ]
     },
     "execution_count": 115,
     "metadata": {},
     "output_type": "execute_result"
    }
   ],
   "source": [
    "len(pred_test)"
   ]
  },
  {
   "cell_type": "code",
   "execution_count": 116,
   "metadata": {
    "collapsed": false
   },
   "outputs": [
    {
     "data": {
      "text/plain": [
       "10507"
      ]
     },
     "execution_count": 116,
     "metadata": {},
     "output_type": "execute_result"
    }
   ],
   "source": [
    "len(test)"
   ]
  },
  {
   "cell_type": "code",
   "execution_count": 153,
   "metadata": {
    "collapsed": false
   },
   "outputs": [
    {
     "data": {
      "text/html": [
       "<div>\n",
       "<table border=\"1\" class=\"dataframe\">\n",
       "  <thead>\n",
       "    <tr style=\"text-align: right;\">\n",
       "      <th></th>\n",
       "      <th>ads</th>\n",
       "      <th>category_id</th>\n",
       "      <th>user_id</th>\n",
       "    </tr>\n",
       "  </thead>\n",
       "  <tbody>\n",
       "    <tr>\n",
       "      <th>0</th>\n",
       "      <td>[2891500, 2898379, 2911000, 2898476, 2031170, ...</td>\n",
       "      <td>800</td>\n",
       "      <td>2</td>\n",
       "    </tr>\n",
       "    <tr>\n",
       "      <th>1</th>\n",
       "      <td>[2882036, 2827310, 2888041, 2892684, 2831841, ...</td>\n",
       "      <td>815</td>\n",
       "      <td>6</td>\n",
       "    </tr>\n",
       "    <tr>\n",
       "      <th>2</th>\n",
       "      <td>[2624021, 2753896, 2881080, 2899362, 2869986, ...</td>\n",
       "      <td>811</td>\n",
       "      <td>14</td>\n",
       "    </tr>\n",
       "    <tr>\n",
       "      <th>3</th>\n",
       "      <td>[2891500, 2898379, 2911000, 2898476, 2031170, ...</td>\n",
       "      <td>800</td>\n",
       "      <td>14</td>\n",
       "    </tr>\n",
       "    <tr>\n",
       "      <th>4</th>\n",
       "      <td>[2882036, 2827310, 2888041, 2892684, 2831841, ...</td>\n",
       "      <td>815</td>\n",
       "      <td>17</td>\n",
       "    </tr>\n",
       "    <tr>\n",
       "      <th>5</th>\n",
       "      <td>[2624021, 2753896, 2881080, 2899362, 2869986, ...</td>\n",
       "      <td>811</td>\n",
       "      <td>20</td>\n",
       "    </tr>\n",
       "    <tr>\n",
       "      <th>6</th>\n",
       "      <td>[1720784, 2886467, 2895717, 2835598, 2896045, ...</td>\n",
       "      <td>806</td>\n",
       "      <td>20</td>\n",
       "    </tr>\n",
       "    <tr>\n",
       "      <th>7</th>\n",
       "      <td>[2891500, 2898379, 2911000, 2898476, 2031170, ...</td>\n",
       "      <td>800</td>\n",
       "      <td>20</td>\n",
       "    </tr>\n",
       "    <tr>\n",
       "      <th>8</th>\n",
       "      <td>[2891500, 2898379, 2911000, 2898476, 2031170, ...</td>\n",
       "      <td>800</td>\n",
       "      <td>24</td>\n",
       "    </tr>\n",
       "    <tr>\n",
       "      <th>9</th>\n",
       "      <td>[2882472, 2873541, 2246591, 2880088, 2895915, ...</td>\n",
       "      <td>888</td>\n",
       "      <td>24</td>\n",
       "    </tr>\n",
       "    <tr>\n",
       "      <th>10</th>\n",
       "      <td>[2882036, 2827310, 2888041, 2892684, 2831841, ...</td>\n",
       "      <td>815</td>\n",
       "      <td>28</td>\n",
       "    </tr>\n",
       "    <tr>\n",
       "      <th>11</th>\n",
       "      <td>[2871638, 2893130, 1998679, 2874121, 2535492, ...</td>\n",
       "      <td>853</td>\n",
       "      <td>28</td>\n",
       "    </tr>\n",
       "    <tr>\n",
       "      <th>12</th>\n",
       "      <td>[1720784, 2886467, 2895717, 2835598, 2896045, ...</td>\n",
       "      <td>806</td>\n",
       "      <td>35</td>\n",
       "    </tr>\n",
       "    <tr>\n",
       "      <th>13</th>\n",
       "      <td>[2882472, 2873541, 2246591, 2880088, 2895915, ...</td>\n",
       "      <td>888</td>\n",
       "      <td>35</td>\n",
       "    </tr>\n",
       "    <tr>\n",
       "      <th>14</th>\n",
       "      <td>[2882472, 2873541, 2246591, 2880088, 2895915, ...</td>\n",
       "      <td>888</td>\n",
       "      <td>48</td>\n",
       "    </tr>\n",
       "    <tr>\n",
       "      <th>15</th>\n",
       "      <td>[2658874, 2519991, 2880278, 2648807, 2662331, ...</td>\n",
       "      <td>881</td>\n",
       "      <td>48</td>\n",
       "    </tr>\n",
       "    <tr>\n",
       "      <th>16</th>\n",
       "      <td>[2871638, 2893130, 1998679, 2874121, 2535492, ...</td>\n",
       "      <td>853</td>\n",
       "      <td>48</td>\n",
       "    </tr>\n",
       "    <tr>\n",
       "      <th>17</th>\n",
       "      <td>[2882036, 2827310, 2888041, 2892684, 2831841, ...</td>\n",
       "      <td>815</td>\n",
       "      <td>48</td>\n",
       "    </tr>\n",
       "    <tr>\n",
       "      <th>18</th>\n",
       "      <td>[2891500, 2898379, 2911000, 2898476, 2031170, ...</td>\n",
       "      <td>800</td>\n",
       "      <td>48</td>\n",
       "    </tr>\n",
       "    <tr>\n",
       "      <th>19</th>\n",
       "      <td>[2870873, 2677927, 2906282, 2851216, 2512096, ...</td>\n",
       "      <td>887</td>\n",
       "      <td>49</td>\n",
       "    </tr>\n",
       "    <tr>\n",
       "      <th>20</th>\n",
       "      <td>[2624021, 2753896, 2881080, 2899362, 2869986, ...</td>\n",
       "      <td>811</td>\n",
       "      <td>49</td>\n",
       "    </tr>\n",
       "    <tr>\n",
       "      <th>21</th>\n",
       "      <td>[2891500, 2898379, 2911000, 2898476, 2031170, ...</td>\n",
       "      <td>800</td>\n",
       "      <td>49</td>\n",
       "    </tr>\n",
       "    <tr>\n",
       "      <th>22</th>\n",
       "      <td>[2882036, 2827310, 2888041, 2892684, 2831841, ...</td>\n",
       "      <td>815</td>\n",
       "      <td>51</td>\n",
       "    </tr>\n",
       "    <tr>\n",
       "      <th>23</th>\n",
       "      <td>[1720784, 2886467, 2895717, 2835598, 2896045, ...</td>\n",
       "      <td>806</td>\n",
       "      <td>61</td>\n",
       "    </tr>\n",
       "    <tr>\n",
       "      <th>24</th>\n",
       "      <td>[2891500, 2898379, 2911000, 2898476, 2031170, ...</td>\n",
       "      <td>800</td>\n",
       "      <td>67</td>\n",
       "    </tr>\n",
       "    <tr>\n",
       "      <th>25</th>\n",
       "      <td>[2882472, 2873541, 2246591, 2880088, 2895915, ...</td>\n",
       "      <td>888</td>\n",
       "      <td>67</td>\n",
       "    </tr>\n",
       "    <tr>\n",
       "      <th>26</th>\n",
       "      <td>[2882472, 2873541, 2246591, 2880088, 2895915, ...</td>\n",
       "      <td>888</td>\n",
       "      <td>72</td>\n",
       "    </tr>\n",
       "    <tr>\n",
       "      <th>27</th>\n",
       "      <td>[1720784, 2886467, 2895717, 2835598, 2896045, ...</td>\n",
       "      <td>806</td>\n",
       "      <td>72</td>\n",
       "    </tr>\n",
       "    <tr>\n",
       "      <th>28</th>\n",
       "      <td>[2882036, 2827310, 2888041, 2892684, 2831841, ...</td>\n",
       "      <td>815</td>\n",
       "      <td>76</td>\n",
       "    </tr>\n",
       "    <tr>\n",
       "      <th>29</th>\n",
       "      <td>[2871638, 2893130, 1998679, 2874121, 2535492, ...</td>\n",
       "      <td>853</td>\n",
       "      <td>76</td>\n",
       "    </tr>\n",
       "    <tr>\n",
       "      <th>30</th>\n",
       "      <td>[2882036, 2827310, 2888041, 2892684, 2831841, ...</td>\n",
       "      <td>815</td>\n",
       "      <td>79</td>\n",
       "    </tr>\n",
       "    <tr>\n",
       "      <th>31</th>\n",
       "      <td>[2882472, 2873541, 2246591, 2880088, 2895915, ...</td>\n",
       "      <td>888</td>\n",
       "      <td>81</td>\n",
       "    </tr>\n",
       "    <tr>\n",
       "      <th>32</th>\n",
       "      <td>[2891500, 2898379, 2911000, 2898476, 2031170, ...</td>\n",
       "      <td>800</td>\n",
       "      <td>81</td>\n",
       "    </tr>\n",
       "    <tr>\n",
       "      <th>33</th>\n",
       "      <td>[2870873, 2677927, 2906282, 2851216, 2512096, ...</td>\n",
       "      <td>887</td>\n",
       "      <td>90</td>\n",
       "    </tr>\n",
       "    <tr>\n",
       "      <th>34</th>\n",
       "      <td>[2882036, 2827310, 2888041, 2892684, 2831841, ...</td>\n",
       "      <td>815</td>\n",
       "      <td>90</td>\n",
       "    </tr>\n",
       "    <tr>\n",
       "      <th>35</th>\n",
       "      <td>[2891500, 2898379, 2911000, 2898476, 2031170, ...</td>\n",
       "      <td>800</td>\n",
       "      <td>92</td>\n",
       "    </tr>\n",
       "    <tr>\n",
       "      <th>36</th>\n",
       "      <td>[2882472, 2873541, 2246591, 2880088, 2895915, ...</td>\n",
       "      <td>888</td>\n",
       "      <td>93</td>\n",
       "    </tr>\n",
       "    <tr>\n",
       "      <th>37</th>\n",
       "      <td>[2882036, 2827310, 2888041, 2892684, 2831841, ...</td>\n",
       "      <td>815</td>\n",
       "      <td>94</td>\n",
       "    </tr>\n",
       "    <tr>\n",
       "      <th>38</th>\n",
       "      <td>[2891500, 2898379, 2911000, 2898476, 2031170, ...</td>\n",
       "      <td>800</td>\n",
       "      <td>100</td>\n",
       "    </tr>\n",
       "    <tr>\n",
       "      <th>39</th>\n",
       "      <td>[2870873, 2677927, 2906282, 2851216, 2512096, ...</td>\n",
       "      <td>887</td>\n",
       "      <td>100</td>\n",
       "    </tr>\n",
       "    <tr>\n",
       "      <th>40</th>\n",
       "      <td>[2882036, 2827310, 2888041, 2892684, 2831841, ...</td>\n",
       "      <td>815</td>\n",
       "      <td>100</td>\n",
       "    </tr>\n",
       "    <tr>\n",
       "      <th>41</th>\n",
       "      <td>[2891500, 2898379, 2911000, 2898476, 2031170, ...</td>\n",
       "      <td>800</td>\n",
       "      <td>103</td>\n",
       "    </tr>\n",
       "    <tr>\n",
       "      <th>42</th>\n",
       "      <td>[2891500, 2898379, 2911000, 2898476, 2031170, ...</td>\n",
       "      <td>800</td>\n",
       "      <td>111</td>\n",
       "    </tr>\n",
       "    <tr>\n",
       "      <th>43</th>\n",
       "      <td>[2882036, 2827310, 2888041, 2892684, 2831841, ...</td>\n",
       "      <td>815</td>\n",
       "      <td>113</td>\n",
       "    </tr>\n",
       "    <tr>\n",
       "      <th>44</th>\n",
       "      <td>[2891500, 2898379, 2911000, 2898476, 2031170, ...</td>\n",
       "      <td>800</td>\n",
       "      <td>115</td>\n",
       "    </tr>\n",
       "    <tr>\n",
       "      <th>45</th>\n",
       "      <td>[2882036, 2827310, 2888041, 2892684, 2831841, ...</td>\n",
       "      <td>815</td>\n",
       "      <td>115</td>\n",
       "    </tr>\n",
       "    <tr>\n",
       "      <th>46</th>\n",
       "      <td>[2871638, 2893130, 1998679, 2874121, 2535492, ...</td>\n",
       "      <td>853</td>\n",
       "      <td>115</td>\n",
       "    </tr>\n",
       "    <tr>\n",
       "      <th>47</th>\n",
       "      <td>[2882472, 2873541, 2246591, 2880088, 2895915, ...</td>\n",
       "      <td>888</td>\n",
       "      <td>115</td>\n",
       "    </tr>\n",
       "    <tr>\n",
       "      <th>48</th>\n",
       "      <td>[1720784, 2886467, 2895717, 2835598, 2896045, ...</td>\n",
       "      <td>806</td>\n",
       "      <td>118</td>\n",
       "    </tr>\n",
       "    <tr>\n",
       "      <th>49</th>\n",
       "      <td>[2882036, 2827310, 2888041, 2892684, 2831841, ...</td>\n",
       "      <td>815</td>\n",
       "      <td>121</td>\n",
       "    </tr>\n",
       "  </tbody>\n",
       "</table>\n",
       "</div>"
      ],
      "text/plain": [
       "                                                  ads  category_id  user_id\n",
       "0   [2891500, 2898379, 2911000, 2898476, 2031170, ...          800        2\n",
       "1   [2882036, 2827310, 2888041, 2892684, 2831841, ...          815        6\n",
       "2   [2624021, 2753896, 2881080, 2899362, 2869986, ...          811       14\n",
       "3   [2891500, 2898379, 2911000, 2898476, 2031170, ...          800       14\n",
       "4   [2882036, 2827310, 2888041, 2892684, 2831841, ...          815       17\n",
       "5   [2624021, 2753896, 2881080, 2899362, 2869986, ...          811       20\n",
       "6   [1720784, 2886467, 2895717, 2835598, 2896045, ...          806       20\n",
       "7   [2891500, 2898379, 2911000, 2898476, 2031170, ...          800       20\n",
       "8   [2891500, 2898379, 2911000, 2898476, 2031170, ...          800       24\n",
       "9   [2882472, 2873541, 2246591, 2880088, 2895915, ...          888       24\n",
       "10  [2882036, 2827310, 2888041, 2892684, 2831841, ...          815       28\n",
       "11  [2871638, 2893130, 1998679, 2874121, 2535492, ...          853       28\n",
       "12  [1720784, 2886467, 2895717, 2835598, 2896045, ...          806       35\n",
       "13  [2882472, 2873541, 2246591, 2880088, 2895915, ...          888       35\n",
       "14  [2882472, 2873541, 2246591, 2880088, 2895915, ...          888       48\n",
       "15  [2658874, 2519991, 2880278, 2648807, 2662331, ...          881       48\n",
       "16  [2871638, 2893130, 1998679, 2874121, 2535492, ...          853       48\n",
       "17  [2882036, 2827310, 2888041, 2892684, 2831841, ...          815       48\n",
       "18  [2891500, 2898379, 2911000, 2898476, 2031170, ...          800       48\n",
       "19  [2870873, 2677927, 2906282, 2851216, 2512096, ...          887       49\n",
       "20  [2624021, 2753896, 2881080, 2899362, 2869986, ...          811       49\n",
       "21  [2891500, 2898379, 2911000, 2898476, 2031170, ...          800       49\n",
       "22  [2882036, 2827310, 2888041, 2892684, 2831841, ...          815       51\n",
       "23  [1720784, 2886467, 2895717, 2835598, 2896045, ...          806       61\n",
       "24  [2891500, 2898379, 2911000, 2898476, 2031170, ...          800       67\n",
       "25  [2882472, 2873541, 2246591, 2880088, 2895915, ...          888       67\n",
       "26  [2882472, 2873541, 2246591, 2880088, 2895915, ...          888       72\n",
       "27  [1720784, 2886467, 2895717, 2835598, 2896045, ...          806       72\n",
       "28  [2882036, 2827310, 2888041, 2892684, 2831841, ...          815       76\n",
       "29  [2871638, 2893130, 1998679, 2874121, 2535492, ...          853       76\n",
       "30  [2882036, 2827310, 2888041, 2892684, 2831841, ...          815       79\n",
       "31  [2882472, 2873541, 2246591, 2880088, 2895915, ...          888       81\n",
       "32  [2891500, 2898379, 2911000, 2898476, 2031170, ...          800       81\n",
       "33  [2870873, 2677927, 2906282, 2851216, 2512096, ...          887       90\n",
       "34  [2882036, 2827310, 2888041, 2892684, 2831841, ...          815       90\n",
       "35  [2891500, 2898379, 2911000, 2898476, 2031170, ...          800       92\n",
       "36  [2882472, 2873541, 2246591, 2880088, 2895915, ...          888       93\n",
       "37  [2882036, 2827310, 2888041, 2892684, 2831841, ...          815       94\n",
       "38  [2891500, 2898379, 2911000, 2898476, 2031170, ...          800      100\n",
       "39  [2870873, 2677927, 2906282, 2851216, 2512096, ...          887      100\n",
       "40  [2882036, 2827310, 2888041, 2892684, 2831841, ...          815      100\n",
       "41  [2891500, 2898379, 2911000, 2898476, 2031170, ...          800      103\n",
       "42  [2891500, 2898379, 2911000, 2898476, 2031170, ...          800      111\n",
       "43  [2882036, 2827310, 2888041, 2892684, 2831841, ...          815      113\n",
       "44  [2891500, 2898379, 2911000, 2898476, 2031170, ...          800      115\n",
       "45  [2882036, 2827310, 2888041, 2892684, 2831841, ...          815      115\n",
       "46  [2871638, 2893130, 1998679, 2874121, 2535492, ...          853      115\n",
       "47  [2882472, 2873541, 2246591, 2880088, 2895915, ...          888      115\n",
       "48  [1720784, 2886467, 2895717, 2835598, 2896045, ...          806      118\n",
       "49  [2882036, 2827310, 2888041, 2892684, 2831841, ...          815      121"
      ]
     },
     "execution_count": 153,
     "metadata": {},
     "output_type": "execute_result"
    }
   ],
   "source": [
    "sol = df({'user_id': list(test['user_id']), 'category_id': list(test['category_id']),'ads':(pred_test)})  \n",
    "sol.head(5)"
   ]
  },
  {
   "cell_type": "code",
   "execution_count": 154,
   "metadata": {
    "collapsed": false
   },
   "outputs": [],
   "source": [
    "cols = sol.columns.tolist()\n",
    "cols = cols[2:3]+cols[1:2]+cols[0:1] \n",
    "sol = sol[cols]"
   ]
  },
  {
   "cell_type": "code",
   "execution_count": 155,
   "metadata": {
    "collapsed": false
   },
   "outputs": [
    {
     "data": {
      "text/html": [
       "<div>\n",
       "<table border=\"1\" class=\"dataframe\">\n",
       "  <thead>\n",
       "    <tr style=\"text-align: right;\">\n",
       "      <th></th>\n",
       "      <th>user_id</th>\n",
       "      <th>category_id</th>\n",
       "      <th>ads</th>\n",
       "    </tr>\n",
       "  </thead>\n",
       "  <tbody>\n",
       "    <tr>\n",
       "      <th>0</th>\n",
       "      <td>2</td>\n",
       "      <td>800</td>\n",
       "      <td>[2891500, 2898379, 2911000, 2898476, 2031170, ...</td>\n",
       "    </tr>\n",
       "    <tr>\n",
       "      <th>1</th>\n",
       "      <td>6</td>\n",
       "      <td>815</td>\n",
       "      <td>[2882036, 2827310, 2888041, 2892684, 2831841, ...</td>\n",
       "    </tr>\n",
       "    <tr>\n",
       "      <th>2</th>\n",
       "      <td>14</td>\n",
       "      <td>811</td>\n",
       "      <td>[2624021, 2753896, 2881080, 2899362, 2869986, ...</td>\n",
       "    </tr>\n",
       "    <tr>\n",
       "      <th>3</th>\n",
       "      <td>14</td>\n",
       "      <td>800</td>\n",
       "      <td>[2891500, 2898379, 2911000, 2898476, 2031170, ...</td>\n",
       "    </tr>\n",
       "    <tr>\n",
       "      <th>4</th>\n",
       "      <td>17</td>\n",
       "      <td>815</td>\n",
       "      <td>[2882036, 2827310, 2888041, 2892684, 2831841, ...</td>\n",
       "    </tr>\n",
       "    <tr>\n",
       "      <th>5</th>\n",
       "      <td>20</td>\n",
       "      <td>811</td>\n",
       "      <td>[2624021, 2753896, 2881080, 2899362, 2869986, ...</td>\n",
       "    </tr>\n",
       "    <tr>\n",
       "      <th>6</th>\n",
       "      <td>20</td>\n",
       "      <td>806</td>\n",
       "      <td>[1720784, 2886467, 2895717, 2835598, 2896045, ...</td>\n",
       "    </tr>\n",
       "    <tr>\n",
       "      <th>7</th>\n",
       "      <td>20</td>\n",
       "      <td>800</td>\n",
       "      <td>[2891500, 2898379, 2911000, 2898476, 2031170, ...</td>\n",
       "    </tr>\n",
       "    <tr>\n",
       "      <th>8</th>\n",
       "      <td>24</td>\n",
       "      <td>800</td>\n",
       "      <td>[2891500, 2898379, 2911000, 2898476, 2031170, ...</td>\n",
       "    </tr>\n",
       "    <tr>\n",
       "      <th>9</th>\n",
       "      <td>24</td>\n",
       "      <td>888</td>\n",
       "      <td>[2882472, 2873541, 2246591, 2880088, 2895915, ...</td>\n",
       "    </tr>\n",
       "    <tr>\n",
       "      <th>10</th>\n",
       "      <td>28</td>\n",
       "      <td>815</td>\n",
       "      <td>[2882036, 2827310, 2888041, 2892684, 2831841, ...</td>\n",
       "    </tr>\n",
       "    <tr>\n",
       "      <th>11</th>\n",
       "      <td>28</td>\n",
       "      <td>853</td>\n",
       "      <td>[2871638, 2893130, 1998679, 2874121, 2535492, ...</td>\n",
       "    </tr>\n",
       "    <tr>\n",
       "      <th>12</th>\n",
       "      <td>35</td>\n",
       "      <td>806</td>\n",
       "      <td>[1720784, 2886467, 2895717, 2835598, 2896045, ...</td>\n",
       "    </tr>\n",
       "    <tr>\n",
       "      <th>13</th>\n",
       "      <td>35</td>\n",
       "      <td>888</td>\n",
       "      <td>[2882472, 2873541, 2246591, 2880088, 2895915, ...</td>\n",
       "    </tr>\n",
       "    <tr>\n",
       "      <th>14</th>\n",
       "      <td>48</td>\n",
       "      <td>888</td>\n",
       "      <td>[2882472, 2873541, 2246591, 2880088, 2895915, ...</td>\n",
       "    </tr>\n",
       "    <tr>\n",
       "      <th>15</th>\n",
       "      <td>48</td>\n",
       "      <td>881</td>\n",
       "      <td>[2658874, 2519991, 2880278, 2648807, 2662331, ...</td>\n",
       "    </tr>\n",
       "    <tr>\n",
       "      <th>16</th>\n",
       "      <td>48</td>\n",
       "      <td>853</td>\n",
       "      <td>[2871638, 2893130, 1998679, 2874121, 2535492, ...</td>\n",
       "    </tr>\n",
       "    <tr>\n",
       "      <th>17</th>\n",
       "      <td>48</td>\n",
       "      <td>815</td>\n",
       "      <td>[2882036, 2827310, 2888041, 2892684, 2831841, ...</td>\n",
       "    </tr>\n",
       "    <tr>\n",
       "      <th>18</th>\n",
       "      <td>48</td>\n",
       "      <td>800</td>\n",
       "      <td>[2891500, 2898379, 2911000, 2898476, 2031170, ...</td>\n",
       "    </tr>\n",
       "    <tr>\n",
       "      <th>19</th>\n",
       "      <td>49</td>\n",
       "      <td>887</td>\n",
       "      <td>[2870873, 2677927, 2906282, 2851216, 2512096, ...</td>\n",
       "    </tr>\n",
       "    <tr>\n",
       "      <th>20</th>\n",
       "      <td>49</td>\n",
       "      <td>811</td>\n",
       "      <td>[2624021, 2753896, 2881080, 2899362, 2869986, ...</td>\n",
       "    </tr>\n",
       "    <tr>\n",
       "      <th>21</th>\n",
       "      <td>49</td>\n",
       "      <td>800</td>\n",
       "      <td>[2891500, 2898379, 2911000, 2898476, 2031170, ...</td>\n",
       "    </tr>\n",
       "    <tr>\n",
       "      <th>22</th>\n",
       "      <td>51</td>\n",
       "      <td>815</td>\n",
       "      <td>[2882036, 2827310, 2888041, 2892684, 2831841, ...</td>\n",
       "    </tr>\n",
       "    <tr>\n",
       "      <th>23</th>\n",
       "      <td>61</td>\n",
       "      <td>806</td>\n",
       "      <td>[1720784, 2886467, 2895717, 2835598, 2896045, ...</td>\n",
       "    </tr>\n",
       "    <tr>\n",
       "      <th>24</th>\n",
       "      <td>67</td>\n",
       "      <td>800</td>\n",
       "      <td>[2891500, 2898379, 2911000, 2898476, 2031170, ...</td>\n",
       "    </tr>\n",
       "    <tr>\n",
       "      <th>25</th>\n",
       "      <td>67</td>\n",
       "      <td>888</td>\n",
       "      <td>[2882472, 2873541, 2246591, 2880088, 2895915, ...</td>\n",
       "    </tr>\n",
       "    <tr>\n",
       "      <th>26</th>\n",
       "      <td>72</td>\n",
       "      <td>888</td>\n",
       "      <td>[2882472, 2873541, 2246591, 2880088, 2895915, ...</td>\n",
       "    </tr>\n",
       "    <tr>\n",
       "      <th>27</th>\n",
       "      <td>72</td>\n",
       "      <td>806</td>\n",
       "      <td>[1720784, 2886467, 2895717, 2835598, 2896045, ...</td>\n",
       "    </tr>\n",
       "    <tr>\n",
       "      <th>28</th>\n",
       "      <td>76</td>\n",
       "      <td>815</td>\n",
       "      <td>[2882036, 2827310, 2888041, 2892684, 2831841, ...</td>\n",
       "    </tr>\n",
       "    <tr>\n",
       "      <th>29</th>\n",
       "      <td>76</td>\n",
       "      <td>853</td>\n",
       "      <td>[2871638, 2893130, 1998679, 2874121, 2535492, ...</td>\n",
       "    </tr>\n",
       "    <tr>\n",
       "      <th>30</th>\n",
       "      <td>79</td>\n",
       "      <td>815</td>\n",
       "      <td>[2882036, 2827310, 2888041, 2892684, 2831841, ...</td>\n",
       "    </tr>\n",
       "    <tr>\n",
       "      <th>31</th>\n",
       "      <td>81</td>\n",
       "      <td>888</td>\n",
       "      <td>[2882472, 2873541, 2246591, 2880088, 2895915, ...</td>\n",
       "    </tr>\n",
       "    <tr>\n",
       "      <th>32</th>\n",
       "      <td>81</td>\n",
       "      <td>800</td>\n",
       "      <td>[2891500, 2898379, 2911000, 2898476, 2031170, ...</td>\n",
       "    </tr>\n",
       "    <tr>\n",
       "      <th>33</th>\n",
       "      <td>90</td>\n",
       "      <td>887</td>\n",
       "      <td>[2870873, 2677927, 2906282, 2851216, 2512096, ...</td>\n",
       "    </tr>\n",
       "    <tr>\n",
       "      <th>34</th>\n",
       "      <td>90</td>\n",
       "      <td>815</td>\n",
       "      <td>[2882036, 2827310, 2888041, 2892684, 2831841, ...</td>\n",
       "    </tr>\n",
       "    <tr>\n",
       "      <th>35</th>\n",
       "      <td>92</td>\n",
       "      <td>800</td>\n",
       "      <td>[2891500, 2898379, 2911000, 2898476, 2031170, ...</td>\n",
       "    </tr>\n",
       "    <tr>\n",
       "      <th>36</th>\n",
       "      <td>93</td>\n",
       "      <td>888</td>\n",
       "      <td>[2882472, 2873541, 2246591, 2880088, 2895915, ...</td>\n",
       "    </tr>\n",
       "    <tr>\n",
       "      <th>37</th>\n",
       "      <td>94</td>\n",
       "      <td>815</td>\n",
       "      <td>[2882036, 2827310, 2888041, 2892684, 2831841, ...</td>\n",
       "    </tr>\n",
       "    <tr>\n",
       "      <th>38</th>\n",
       "      <td>100</td>\n",
       "      <td>800</td>\n",
       "      <td>[2891500, 2898379, 2911000, 2898476, 2031170, ...</td>\n",
       "    </tr>\n",
       "    <tr>\n",
       "      <th>39</th>\n",
       "      <td>100</td>\n",
       "      <td>887</td>\n",
       "      <td>[2870873, 2677927, 2906282, 2851216, 2512096, ...</td>\n",
       "    </tr>\n",
       "    <tr>\n",
       "      <th>40</th>\n",
       "      <td>100</td>\n",
       "      <td>815</td>\n",
       "      <td>[2882036, 2827310, 2888041, 2892684, 2831841, ...</td>\n",
       "    </tr>\n",
       "    <tr>\n",
       "      <th>41</th>\n",
       "      <td>103</td>\n",
       "      <td>800</td>\n",
       "      <td>[2891500, 2898379, 2911000, 2898476, 2031170, ...</td>\n",
       "    </tr>\n",
       "    <tr>\n",
       "      <th>42</th>\n",
       "      <td>111</td>\n",
       "      <td>800</td>\n",
       "      <td>[2891500, 2898379, 2911000, 2898476, 2031170, ...</td>\n",
       "    </tr>\n",
       "    <tr>\n",
       "      <th>43</th>\n",
       "      <td>113</td>\n",
       "      <td>815</td>\n",
       "      <td>[2882036, 2827310, 2888041, 2892684, 2831841, ...</td>\n",
       "    </tr>\n",
       "    <tr>\n",
       "      <th>44</th>\n",
       "      <td>115</td>\n",
       "      <td>800</td>\n",
       "      <td>[2891500, 2898379, 2911000, 2898476, 2031170, ...</td>\n",
       "    </tr>\n",
       "    <tr>\n",
       "      <th>45</th>\n",
       "      <td>115</td>\n",
       "      <td>815</td>\n",
       "      <td>[2882036, 2827310, 2888041, 2892684, 2831841, ...</td>\n",
       "    </tr>\n",
       "    <tr>\n",
       "      <th>46</th>\n",
       "      <td>115</td>\n",
       "      <td>853</td>\n",
       "      <td>[2871638, 2893130, 1998679, 2874121, 2535492, ...</td>\n",
       "    </tr>\n",
       "    <tr>\n",
       "      <th>47</th>\n",
       "      <td>115</td>\n",
       "      <td>888</td>\n",
       "      <td>[2882472, 2873541, 2246591, 2880088, 2895915, ...</td>\n",
       "    </tr>\n",
       "    <tr>\n",
       "      <th>48</th>\n",
       "      <td>118</td>\n",
       "      <td>806</td>\n",
       "      <td>[1720784, 2886467, 2895717, 2835598, 2896045, ...</td>\n",
       "    </tr>\n",
       "    <tr>\n",
       "      <th>49</th>\n",
       "      <td>121</td>\n",
       "      <td>815</td>\n",
       "      <td>[2882036, 2827310, 2888041, 2892684, 2831841, ...</td>\n",
       "    </tr>\n",
       "  </tbody>\n",
       "</table>\n",
       "</div>"
      ],
      "text/plain": [
       "    user_id  category_id                                                ads\n",
       "0         2          800  [2891500, 2898379, 2911000, 2898476, 2031170, ...\n",
       "1         6          815  [2882036, 2827310, 2888041, 2892684, 2831841, ...\n",
       "2        14          811  [2624021, 2753896, 2881080, 2899362, 2869986, ...\n",
       "3        14          800  [2891500, 2898379, 2911000, 2898476, 2031170, ...\n",
       "4        17          815  [2882036, 2827310, 2888041, 2892684, 2831841, ...\n",
       "5        20          811  [2624021, 2753896, 2881080, 2899362, 2869986, ...\n",
       "6        20          806  [1720784, 2886467, 2895717, 2835598, 2896045, ...\n",
       "7        20          800  [2891500, 2898379, 2911000, 2898476, 2031170, ...\n",
       "8        24          800  [2891500, 2898379, 2911000, 2898476, 2031170, ...\n",
       "9        24          888  [2882472, 2873541, 2246591, 2880088, 2895915, ...\n",
       "10       28          815  [2882036, 2827310, 2888041, 2892684, 2831841, ...\n",
       "11       28          853  [2871638, 2893130, 1998679, 2874121, 2535492, ...\n",
       "12       35          806  [1720784, 2886467, 2895717, 2835598, 2896045, ...\n",
       "13       35          888  [2882472, 2873541, 2246591, 2880088, 2895915, ...\n",
       "14       48          888  [2882472, 2873541, 2246591, 2880088, 2895915, ...\n",
       "15       48          881  [2658874, 2519991, 2880278, 2648807, 2662331, ...\n",
       "16       48          853  [2871638, 2893130, 1998679, 2874121, 2535492, ...\n",
       "17       48          815  [2882036, 2827310, 2888041, 2892684, 2831841, ...\n",
       "18       48          800  [2891500, 2898379, 2911000, 2898476, 2031170, ...\n",
       "19       49          887  [2870873, 2677927, 2906282, 2851216, 2512096, ...\n",
       "20       49          811  [2624021, 2753896, 2881080, 2899362, 2869986, ...\n",
       "21       49          800  [2891500, 2898379, 2911000, 2898476, 2031170, ...\n",
       "22       51          815  [2882036, 2827310, 2888041, 2892684, 2831841, ...\n",
       "23       61          806  [1720784, 2886467, 2895717, 2835598, 2896045, ...\n",
       "24       67          800  [2891500, 2898379, 2911000, 2898476, 2031170, ...\n",
       "25       67          888  [2882472, 2873541, 2246591, 2880088, 2895915, ...\n",
       "26       72          888  [2882472, 2873541, 2246591, 2880088, 2895915, ...\n",
       "27       72          806  [1720784, 2886467, 2895717, 2835598, 2896045, ...\n",
       "28       76          815  [2882036, 2827310, 2888041, 2892684, 2831841, ...\n",
       "29       76          853  [2871638, 2893130, 1998679, 2874121, 2535492, ...\n",
       "30       79          815  [2882036, 2827310, 2888041, 2892684, 2831841, ...\n",
       "31       81          888  [2882472, 2873541, 2246591, 2880088, 2895915, ...\n",
       "32       81          800  [2891500, 2898379, 2911000, 2898476, 2031170, ...\n",
       "33       90          887  [2870873, 2677927, 2906282, 2851216, 2512096, ...\n",
       "34       90          815  [2882036, 2827310, 2888041, 2892684, 2831841, ...\n",
       "35       92          800  [2891500, 2898379, 2911000, 2898476, 2031170, ...\n",
       "36       93          888  [2882472, 2873541, 2246591, 2880088, 2895915, ...\n",
       "37       94          815  [2882036, 2827310, 2888041, 2892684, 2831841, ...\n",
       "38      100          800  [2891500, 2898379, 2911000, 2898476, 2031170, ...\n",
       "39      100          887  [2870873, 2677927, 2906282, 2851216, 2512096, ...\n",
       "40      100          815  [2882036, 2827310, 2888041, 2892684, 2831841, ...\n",
       "41      103          800  [2891500, 2898379, 2911000, 2898476, 2031170, ...\n",
       "42      111          800  [2891500, 2898379, 2911000, 2898476, 2031170, ...\n",
       "43      113          815  [2882036, 2827310, 2888041, 2892684, 2831841, ...\n",
       "44      115          800  [2891500, 2898379, 2911000, 2898476, 2031170, ...\n",
       "45      115          815  [2882036, 2827310, 2888041, 2892684, 2831841, ...\n",
       "46      115          853  [2871638, 2893130, 1998679, 2874121, 2535492, ...\n",
       "47      115          888  [2882472, 2873541, 2246591, 2880088, 2895915, ...\n",
       "48      118          806  [1720784, 2886467, 2895717, 2835598, 2896045, ...\n",
       "49      121          815  [2882036, 2827310, 2888041, 2892684, 2831841, ..."
      ]
     },
     "execution_count": 155,
     "metadata": {},
     "output_type": "execute_result"
    }
   ],
   "source": [
    "sol.head(5)"
   ]
  },
  {
   "cell_type": "code",
   "execution_count": 156,
   "metadata": {
    "collapsed": false
   },
   "outputs": [],
   "source": [
    "sol.to_csv(\"01-Naive-Category_ID-.csv\")"
   ]
  },
  {
   "cell_type": "code",
   "execution_count": 157,
   "metadata": {
    "collapsed": false
   },
   "outputs": [
    {
     "data": {
      "text/plain": [
       "Index([u'user_id', u'category_id', u'ads'], dtype='object')"
      ]
     },
     "execution_count": 157,
     "metadata": {},
     "output_type": "execute_result"
    }
   ],
   "source": [
    "sol.columns"
   ]
  }
 ],
 "metadata": {
  "kernelspec": {
   "display_name": "Python 2",
   "language": "python",
   "name": "python2"
  },
  "language_info": {
   "codemirror_mode": {
    "name": "ipython",
    "version": 2
   },
   "file_extension": ".py",
   "mimetype": "text/x-python",
   "name": "python",
   "nbconvert_exporter": "python",
   "pygments_lexer": "ipython2",
   "version": "2.7.11"
  }
 },
 "nbformat": 4,
 "nbformat_minor": 2
}
