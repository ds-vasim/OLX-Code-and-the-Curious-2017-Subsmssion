{
 "cells": [
  {
   "cell_type": "markdown",
   "metadata": {},
   "source": [
    "# Data Analysis using Graphlab"
   ]
  },
  {
   "cell_type": "code",
   "execution_count": 3,
   "metadata": {
    "collapsed": false
   },
   "outputs": [],
   "source": [
    "import graphlab as gl"
   ]
  },
  {
   "cell_type": "code",
   "execution_count": 4,
   "metadata": {
    "collapsed": true
   },
   "outputs": [],
   "source": [
    "import numpy as np\n",
    "import pandas as pd\n",
    "from pandas import DataFrame as df"
   ]
  },
  {
   "cell_type": "code",
   "execution_count": 5,
   "metadata": {
    "collapsed": false
   },
   "outputs": [
    {
     "name": "stderr",
     "output_type": "stream",
     "text": [
      "[INFO] graphlab.cython.cy_server: GraphLab Create v2.1 started. Logging: /tmp/graphlab_server_1501425152.log\n"
     ]
    },
    {
     "name": "stdout",
     "output_type": "stream",
     "text": [
      "This non-commercial license of GraphLab Create for academic use is assigned to akhil.punia2014@vit.ac.in and will expire on April 27, 2018.\n"
     ]
    },
    {
     "data": {
      "text/html": [
       "<pre>Unable to parse line \"\"2229178\",\"800\",\"493863\",\"2017-03-30 11:31:54\",\"Celular moto e 2da generacion\",\"Vend celular motorola\"</pre>"
      ],
      "text/plain": [
       "Unable to parse line \"\"2229178\",\"800\",\"493863\",\"2017-03-30 11:31:54\",\"Celular moto e 2da generacion\",\"Vend celular motorola\""
      ]
     },
     "metadata": {},
     "output_type": "display_data"
    },
    {
     "data": {
      "text/html": [
       "<pre>Unable to parse line \"\"26439\",\"859\",\"22665\",\"2016-02-27 16:38:12\",\"Comic Spawn N°14.\",\"Cómic Spawn N°14.\"</pre>"
      ],
      "text/plain": [
       "Unable to parse line \"\"26439\",\"859\",\"22665\",\"2016-02-27 16:38:12\",\"Comic Spawn N°14.\",\"Cómic Spawn N°14.\""
      ]
     },
     "metadata": {},
     "output_type": "display_data"
    },
    {
     "data": {
      "text/html": [
       "<pre>Unable to parse line \"\"1302241\",\"815\",\"431397\",\"2016-11-28 00:26:52\",\"Liquido!! Short PUNTO 1\",\"Short deportivo Punto 1. S/M\"</pre>"
      ],
      "text/plain": [
       "Unable to parse line \"\"1302241\",\"815\",\"431397\",\"2016-11-28 00:26:52\",\"Liquido!! Short PUNTO 1\",\"Short deportivo Punto 1. S/M\""
      ]
     },
     "metadata": {},
     "output_type": "display_data"
    },
    {
     "data": {
      "text/html": [
       "<pre>Unable to parse line \" segunda generacion libre dos fundas de regalo cargador todo original en caja\",\"2000\",\"\",\"\",\"android\",\"0\"\"</pre>"
      ],
      "text/plain": [
       "Unable to parse line \" segunda generacion libre dos fundas de regalo cargador todo original en caja\",\"2000\",\"\",\"\",\"android\",\"0\"\""
      ]
     },
     "metadata": {},
     "output_type": "display_data"
    },
    {
     "data": {
      "text/html": [
       "<pre>Unable to parse line \"Ed. 1998. Color. 28 páginas. Muy buen estado.\",\"80\",\"\",\"\",\"android\",\"0\"\"</pre>"
      ],
      "text/plain": [
       "Unable to parse line \"Ed. 1998. Color. 28 páginas. Muy buen estado.\",\"80\",\"\",\"\",\"android\",\"0\"\""
      ]
     },
     "metadata": {},
     "output_type": "display_data"
    },
    {
     "data": {
      "text/html": [
       "<pre>Unable to parse line \"$50!!\",\"50\",\"\",\"\",\"android\",\"1\"\"</pre>"
      ],
      "text/plain": [
       "Unable to parse line \"$50!!\",\"50\",\"\",\"\",\"android\",\"1\"\""
      ]
     },
     "metadata": {},
     "output_type": "display_data"
    },
    {
     "data": {
      "text/html": [
       "<pre>Unable to parse line \"\"2230440\",\"800\",\"128611\",\"2017-03-30 14:02:01\",\"J7 Dorado\",\"J7 (Dorado) liberado (usado) para todas las  empresas.\"</pre>"
      ],
      "text/plain": [
       "Unable to parse line \"\"2230440\",\"800\",\"128611\",\"2017-03-30 14:02:01\",\"J7 Dorado\",\"J7 (Dorado) liberado (usado) para todas las  empresas.\""
      ]
     },
     "metadata": {},
     "output_type": "display_data"
    },
    {
     "data": {
      "text/html": [
       "<pre>Unable to parse line \"Incluye 5 fundas, algunas casi sin uso.\"</pre>"
      ],
      "text/plain": [
       "Unable to parse line \"Incluye 5 fundas, algunas casi sin uso.\""
      ]
     },
     "metadata": {},
     "output_type": "display_data"
    },
    {
     "data": {
      "text/html": [
       "<pre>Unable to parse line \"Con vidrio templado intacto.\"</pre>"
      ],
      "text/plain": [
       "Unable to parse line \"Con vidrio templado intacto.\""
      ]
     },
     "metadata": {},
     "output_type": "display_data"
    },
    {
     "data": {
      "text/html": [
       "<pre>Unable to parse line \"Y tambien en caja con sus respectivos accesorios.\"</pre>"
      ],
      "text/plain": [
       "Unable to parse line \"Y tambien en caja con sus respectivos accesorios.\""
      ]
     },
     "metadata": {},
     "output_type": "display_data"
    },
    {
     "data": {
      "text/html": [
       "<pre>135277 lines failed to parse correctly</pre>"
      ],
      "text/plain": [
       "135277 lines failed to parse correctly"
      ]
     },
     "metadata": {},
     "output_type": "display_data"
    },
    {
     "data": {
      "text/html": [
       "<pre>Finished parsing file /Users/akhilpunia/Documents/07-ML_Challenges/11-OLX Code & the Curious/Dataset/ads_data.csv</pre>"
      ],
      "text/plain": [
       "Finished parsing file /Users/akhilpunia/Documents/07-ML_Challenges/11-OLX Code & the Curious/Dataset/ads_data.csv"
      ]
     },
     "metadata": {},
     "output_type": "display_data"
    },
    {
     "data": {
      "text/html": [
       "<pre>Parsing completed. Parsed 100 lines in 2.1536 secs.</pre>"
      ],
      "text/plain": [
       "Parsing completed. Parsed 100 lines in 2.1536 secs."
      ]
     },
     "metadata": {},
     "output_type": "display_data"
    },
    {
     "name": "stdout",
     "output_type": "stream",
     "text": [
      "------------------------------------------------------\n",
      "Inferred types from first 100 line(s) of file as \n",
      "column_type_hints=[int,int,int,str,str,str,int,str,str,str,int]\n",
      "If parsing fails due to incorrect types, you can correct\n",
      "the inferred type list above and pass it to read_csv in\n",
      "the column_type_hints argument\n",
      "------------------------------------------------------\n"
     ]
    },
    {
     "data": {
      "text/html": [
       "<pre>Unable to parse line \"\"1302241\",\"815\",\"431397\",\"2016-11-28 00:26:52\",\"Liquido!! Short PUNTO 1\",\"Short deportivo Punto 1. S/M\"</pre>"
      ],
      "text/plain": [
       "Unable to parse line \"\"1302241\",\"815\",\"431397\",\"2016-11-28 00:26:52\",\"Liquido!! Short PUNTO 1\",\"Short deportivo Punto 1. S/M\""
      ]
     },
     "metadata": {},
     "output_type": "display_data"
    },
    {
     "data": {
      "text/html": [
       "<pre>Unable to parse line \"\"26439\",\"859\",\"22665\",\"2016-02-27 16:38:12\",\"Comic Spawn N°14.\",\"Cómic Spawn N°14.\"</pre>"
      ],
      "text/plain": [
       "Unable to parse line \"\"26439\",\"859\",\"22665\",\"2016-02-27 16:38:12\",\"Comic Spawn N°14.\",\"Cómic Spawn N°14.\""
      ]
     },
     "metadata": {},
     "output_type": "display_data"
    },
    {
     "data": {
      "text/html": [
       "<pre>Unable to parse line \"\"2229178\",\"800\",\"493863\",\"2017-03-30 11:31:54\",\"Celular moto e 2da generacion\",\"Vend celular motorola\"</pre>"
      ],
      "text/plain": [
       "Unable to parse line \"\"2229178\",\"800\",\"493863\",\"2017-03-30 11:31:54\",\"Celular moto e 2da generacion\",\"Vend celular motorola\""
      ]
     },
     "metadata": {},
     "output_type": "display_data"
    },
    {
     "data": {
      "text/html": [
       "<pre>Unable to parse line \"$50!!\",\"50\",\"\",\"\",\"android\",\"1\"\"</pre>"
      ],
      "text/plain": [
       "Unable to parse line \"$50!!\",\"50\",\"\",\"\",\"android\",\"1\"\""
      ]
     },
     "metadata": {},
     "output_type": "display_data"
    },
    {
     "data": {
      "text/html": [
       "<pre>Unable to parse line \"Ed. 1998. Color. 28 páginas. Muy buen estado.\",\"80\",\"\",\"\",\"android\",\"0\"\"</pre>"
      ],
      "text/plain": [
       "Unable to parse line \"Ed. 1998. Color. 28 páginas. Muy buen estado.\",\"80\",\"\",\"\",\"android\",\"0\"\""
      ]
     },
     "metadata": {},
     "output_type": "display_data"
    },
    {
     "data": {
      "text/html": [
       "<pre>Unable to parse line \" segunda generacion libre dos fundas de regalo cargador todo original en caja\",\"2000\",\"\",\"\",\"android\",\"0\"\"</pre>"
      ],
      "text/plain": [
       "Unable to parse line \" segunda generacion libre dos fundas de regalo cargador todo original en caja\",\"2000\",\"\",\"\",\"android\",\"0\"\""
      ]
     },
     "metadata": {},
     "output_type": "display_data"
    },
    {
     "data": {
      "text/html": [
       "<pre>Unable to parse line \"\"1305367\",\"853\",\"198478\",\"2016-11-28 14:07:48\",\"Caminador Feliz Hipopótamo\",\"Caminador Feliz Hipopótamo, marca Calesita.\"</pre>"
      ],
      "text/plain": [
       "Unable to parse line \"\"1305367\",\"853\",\"198478\",\"2016-11-28 14:07:48\",\"Caminador Feliz Hipopótamo\",\"Caminador Feliz Hipopótamo, marca Calesita.\""
      ]
     },
     "metadata": {},
     "output_type": "display_data"
    },
    {
     "data": {
      "text/html": [
       "<pre>Unable to parse line \"\"2230440\",\"800\",\"128611\",\"2017-03-30 14:02:01\",\"J7 Dorado\",\"J7 (Dorado) liberado (usado) para todas las  empresas.\"</pre>"
      ],
      "text/plain": [
       "Unable to parse line \"\"2230440\",\"800\",\"128611\",\"2017-03-30 14:02:01\",\"J7 Dorado\",\"J7 (Dorado) liberado (usado) para todas las  empresas.\""
      ]
     },
     "metadata": {},
     "output_type": "display_data"
    },
    {
     "data": {
      "text/html": [
       "<pre>Unable to parse line \"\"68350\",\"806\",\"56181\",\"2016-04-07 14:36:06\",\"MESADA DE MARMOL\",\"MESADA DE MARMOL DE 1,20mt  CON BACHA Y CON GRIFERIA ,$1800\"</pre>"
      ],
      "text/plain": [
       "Unable to parse line \"\"68350\",\"806\",\"56181\",\"2016-04-07 14:36:06\",\"MESADA DE MARMOL\",\"MESADA DE MARMOL DE 1,20mt  CON BACHA Y CON GRIFERIA ,$1800\""
      ]
     },
     "metadata": {},
     "output_type": "display_data"
    },
    {
     "data": {
      "text/html": [
       "<pre>Unable to parse line \"Usado, muy buen estado.\"</pre>"
      ],
      "text/plain": [
       "Unable to parse line \"Usado, muy buen estado.\""
      ]
     },
     "metadata": {},
     "output_type": "display_data"
    },
    {
     "data": {
      "text/html": [
       "<pre>Unable to parse line \"Incluye 5 fundas, algunas casi sin uso.\"</pre>"
      ],
      "text/plain": [
       "Unable to parse line \"Incluye 5 fundas, algunas casi sin uso.\""
      ]
     },
     "metadata": {},
     "output_type": "display_data"
    },
    {
     "data": {
      "text/html": [
       "<pre>Unable to parse line \"Sin griferia $1490\",\"1400\",\"\",\"\",\"android\",\"1\"\"</pre>"
      ],
      "text/plain": [
       "Unable to parse line \"Sin griferia $1490\",\"1400\",\"\",\"\",\"android\",\"1\"\""
      ]
     },
     "metadata": {},
     "output_type": "display_data"
    },
    {
     "data": {
      "text/html": [
       "<pre>Read 282022 lines. Lines per second: 110625</pre>"
      ],
      "text/plain": [
       "Read 282022 lines. Lines per second: 110625"
      ]
     },
     "metadata": {},
     "output_type": "display_data"
    },
    {
     "data": {
      "text/html": [
       "<pre>256396 lines failed to parse correctly</pre>"
      ],
      "text/plain": [
       "256396 lines failed to parse correctly"
      ]
     },
     "metadata": {},
     "output_type": "display_data"
    },
    {
     "data": {
      "text/html": [
       "<pre>Finished parsing file /Users/akhilpunia/Documents/07-ML_Challenges/11-OLX Code & the Curious/Dataset/ads_data.csv</pre>"
      ],
      "text/plain": [
       "Finished parsing file /Users/akhilpunia/Documents/07-ML_Challenges/11-OLX Code & the Curious/Dataset/ads_data.csv"
      ]
     },
     "metadata": {},
     "output_type": "display_data"
    },
    {
     "data": {
      "text/html": [
       "<pre>Parsing completed. Parsed 570745 lines in 3.25411 secs.</pre>"
      ],
      "text/plain": [
       "Parsing completed. Parsed 570745 lines in 3.25411 secs."
      ]
     },
     "metadata": {},
     "output_type": "display_data"
    },
    {
     "data": {
      "text/html": [
       "<pre>Finished parsing file /Users/akhilpunia/Documents/07-ML_Challenges/11-OLX Code & the Curious/Dataset/user_data.csv</pre>"
      ],
      "text/plain": [
       "Finished parsing file /Users/akhilpunia/Documents/07-ML_Challenges/11-OLX Code & the Curious/Dataset/user_data.csv"
      ]
     },
     "metadata": {},
     "output_type": "display_data"
    },
    {
     "data": {
      "text/html": [
       "<pre>Parsing completed. Parsed 100 lines in 2.34599 secs.</pre>"
      ],
      "text/plain": [
       "Parsing completed. Parsed 100 lines in 2.34599 secs."
      ]
     },
     "metadata": {},
     "output_type": "display_data"
    },
    {
     "name": "stdout",
     "output_type": "stream",
     "text": [
      "------------------------------------------------------\n",
      "Inferred types from first 100 line(s) of file as \n",
      "column_type_hints=[str,int,str,str,float,float,str,int,str,float,float,float]\n",
      "If parsing fails due to incorrect types, you can correct\n",
      "the inferred type list above and pass it to read_csv in\n",
      "the column_type_hints argument\n",
      "------------------------------------------------------\n"
     ]
    },
    {
     "data": {
      "text/html": [
       "<pre>Unable to parse line \"\"2017-05-17 23:17:54\",\"7247\",\"view\",\"android\",\"-34.6187973022461\",\"-58.3838577270508\",\"home\",\"2630822\",\"1.0\",\"\",\"\",\"\"\"</pre>"
      ],
      "text/plain": [
       "Unable to parse line \"\"2017-05-17 23:17:54\",\"7247\",\"view\",\"android\",\"-34.6187973022461\",\"-58.3838577270508\",\"home\",\"2630822\",\"1.0\",\"\",\"\",\"\"\""
      ]
     },
     "metadata": {},
     "output_type": "display_data"
    },
    {
     "data": {
      "text/html": [
       "<pre>Unable to parse line \"\"2017-05-17 22:06:36\",\"1326\",\"view\",\"android\",\"-34.6594467163086\",\"-58.7725982666016\",\"push\",\"2611575\",\"2.0\",\"\",\"\",\"\"\"</pre>"
      ],
      "text/plain": [
       "Unable to parse line \"\"2017-05-17 22:06:36\",\"1326\",\"view\",\"android\",\"-34.6594467163086\",\"-58.7725982666016\",\"push\",\"2611575\",\"2.0\",\"\",\"\",\"\"\""
      ]
     },
     "metadata": {},
     "output_type": "display_data"
    },
    {
     "data": {
      "text/html": [
       "<pre>Unable to parse line \"\"2017-05-17 18:11:41\",\"847\",\"first_message\",\"android\",\"-34.5532302856445\",\"-58.759204864502\",\"notification_center\",\"2627245\",\"\",\"\",\"\",\"\"\"</pre>"
      ],
      "text/plain": [
       "Unable to parse line \"\"2017-05-17 18:11:41\",\"847\",\"first_message\",\"android\",\"-34.5532302856445\",\"-58.759204864502\",\"notification_center\",\"2627245\",\"\",\"\",\"\",\"\"\""
      ]
     },
     "metadata": {},
     "output_type": "display_data"
    },
    {
     "data": {
      "text/html": [
       "<pre>Unable to parse line \"\"2017-05-17 03:20:48\",\"13149\",\"view\",\"android\",\"-34.6329956054688\",\"-58.5471076965332\",\"search\",\"1150893\",\"1.0\",\"\",\"\",\"\"\"</pre>"
      ],
      "text/plain": [
       "Unable to parse line \"\"2017-05-17 03:20:48\",\"13149\",\"view\",\"android\",\"-34.6329956054688\",\"-58.5471076965332\",\"search\",\"1150893\",\"1.0\",\"\",\"\",\"\"\""
      ]
     },
     "metadata": {},
     "output_type": "display_data"
    },
    {
     "data": {
      "text/html": [
       "<pre>Unable to parse line \"\"2017-05-17 00:21:45\",\"13598\",\"view\",\"android\",\"-34.6075325012207\",\"-58.4325866699219\",\"push\",\"2620660\",\"3.0\",\"\",\"\",\"\"\"</pre>"
      ],
      "text/plain": [
       "Unable to parse line \"\"2017-05-17 00:21:45\",\"13598\",\"view\",\"android\",\"-34.6075325012207\",\"-58.4325866699219\",\"push\",\"2620660\",\"3.0\",\"\",\"\",\"\"\""
      ]
     },
     "metadata": {},
     "output_type": "display_data"
    },
    {
     "data": {
      "text/html": [
       "<pre>Unable to parse line \"\"2017-05-18 02:41:51\",\"1377\",\"view\",\"desktop\",\"-34.604\",\"-58.382\",\"\",\"2222283\",\"1.0\",\"\",\"\",\"\"\"</pre>"
      ],
      "text/plain": [
       "Unable to parse line \"\"2017-05-18 02:41:51\",\"1377\",\"view\",\"desktop\",\"-34.604\",\"-58.382\",\"\",\"2222283\",\"1.0\",\"\",\"\",\"\"\""
      ]
     },
     "metadata": {},
     "output_type": "display_data"
    },
    {
     "data": {
      "text/html": [
       "<pre>Unable to parse line \"\"2017-05-17 04:39:15\",\"847\",\"view\",\"android\",\"-34.5532302856445\",\"-58.759204864502\",\"push\",\"2622046\",\"2.0\",\"\",\"\",\"\"\"</pre>"
      ],
      "text/plain": [
       "Unable to parse line \"\"2017-05-17 04:39:15\",\"847\",\"view\",\"android\",\"-34.5532302856445\",\"-58.759204864502\",\"push\",\"2622046\",\"2.0\",\"\",\"\",\"\"\""
      ]
     },
     "metadata": {},
     "output_type": "display_data"
    },
    {
     "data": {
      "text/html": [
       "<pre>Unable to parse line \"\"2017-05-17 21:22:31\",\"991\",\"view\",\"android\",\"-34.5981407165527\",\"-58.4039611816406\",\"browse_search\",\"2460541\",\"4.0\",\"\",\"\",\"\"\"</pre>"
      ],
      "text/plain": [
       "Unable to parse line \"\"2017-05-17 21:22:31\",\"991\",\"view\",\"android\",\"-34.5981407165527\",\"-58.4039611816406\",\"browse_search\",\"2460541\",\"4.0\",\"\",\"\",\"\"\""
      ]
     },
     "metadata": {},
     "output_type": "display_data"
    },
    {
     "data": {
      "text/html": [
       "<pre>Unable to parse line \"\"2017-05-17 09:56:50\",\"816\",\"first_message\",\"android\",\"-34.6369171142578\",\"-58.359790802002\",\"home\",\"2200595\",\"\",\"\",\"\",\"\"\"</pre>"
      ],
      "text/plain": [
       "Unable to parse line \"\"2017-05-17 09:56:50\",\"816\",\"first_message\",\"android\",\"-34.6369171142578\",\"-58.359790802002\",\"home\",\"2200595\",\"\",\"\",\"\",\"\"\""
      ]
     },
     "metadata": {},
     "output_type": "display_data"
    },
    {
     "data": {
      "text/html": [
       "<pre>Unable to parse line \"\"2017-05-17 01:27:55\",\"13598\",\"view\",\"android\",\"-34.6075325012207\",\"-58.4325866699219\",\"push\",\"2553481\",\"1.0\",\"\",\"\",\"\"\"</pre>"
      ],
      "text/plain": [
       "Unable to parse line \"\"2017-05-17 01:27:55\",\"13598\",\"view\",\"android\",\"-34.6075325012207\",\"-58.4325866699219\",\"push\",\"2553481\",\"1.0\",\"\",\"\",\"\"\""
      ]
     },
     "metadata": {},
     "output_type": "display_data"
    },
    {
     "data": {
      "text/html": [
       "<pre>Read 396930 lines. Lines per second: 139938</pre>"
      ],
      "text/plain": [
       "Read 396930 lines. Lines per second: 139938"
      ]
     },
     "metadata": {},
     "output_type": "display_data"
    },
    {
     "data": {
      "text/html": [
       "<pre>48220 lines failed to parse correctly</pre>"
      ],
      "text/plain": [
       "48220 lines failed to parse correctly"
      ]
     },
     "metadata": {},
     "output_type": "display_data"
    },
    {
     "data": {
      "text/html": [
       "<pre>Finished parsing file /Users/akhilpunia/Documents/07-ML_Challenges/11-OLX Code & the Curious/Dataset/user_data.csv</pre>"
      ],
      "text/plain": [
       "Finished parsing file /Users/akhilpunia/Documents/07-ML_Challenges/11-OLX Code & the Curious/Dataset/user_data.csv"
      ]
     },
     "metadata": {},
     "output_type": "display_data"
    },
    {
     "data": {
      "text/html": [
       "<pre>Parsing completed. Parsed 2095669 lines in 7.96134 secs.</pre>"
      ],
      "text/plain": [
       "Parsing completed. Parsed 2095669 lines in 7.96134 secs."
      ]
     },
     "metadata": {},
     "output_type": "display_data"
    },
    {
     "data": {
      "text/html": [
       "<pre>Finished parsing file /Users/akhilpunia/Documents/07-ML_Challenges/11-OLX Code & the Curious/Dataset/user_messages.csv</pre>"
      ],
      "text/plain": [
       "Finished parsing file /Users/akhilpunia/Documents/07-ML_Challenges/11-OLX Code & the Curious/Dataset/user_messages.csv"
      ]
     },
     "metadata": {},
     "output_type": "display_data"
    },
    {
     "data": {
      "text/html": [
       "<pre>Parsing completed. Parsed 100 lines in 0.040003 secs.</pre>"
      ],
      "text/plain": [
       "Parsing completed. Parsed 100 lines in 0.040003 secs."
      ]
     },
     "metadata": {},
     "output_type": "display_data"
    },
    {
     "name": "stdout",
     "output_type": "stream",
     "text": [
      "------------------------------------------------------\n",
      "Inferred types from first 100 line(s) of file as \n",
      "column_type_hints=[int,int,int]\n",
      "If parsing fails due to incorrect types, you can correct\n",
      "the inferred type list above and pass it to read_csv in\n",
      "the column_type_hints argument\n",
      "------------------------------------------------------\n"
     ]
    },
    {
     "data": {
      "text/html": [
       "<pre>Finished parsing file /Users/akhilpunia/Documents/07-ML_Challenges/11-OLX Code & the Curious/Dataset/user_messages.csv</pre>"
      ],
      "text/plain": [
       "Finished parsing file /Users/akhilpunia/Documents/07-ML_Challenges/11-OLX Code & the Curious/Dataset/user_messages.csv"
      ]
     },
     "metadata": {},
     "output_type": "display_data"
    },
    {
     "data": {
      "text/html": [
       "<pre>Parsing completed. Parsed 21153 lines in 0.036797 secs.</pre>"
      ],
      "text/plain": [
       "Parsing completed. Parsed 21153 lines in 0.036797 secs."
      ]
     },
     "metadata": {},
     "output_type": "display_data"
    },
    {
     "data": {
      "text/html": [
       "<pre>Finished parsing file /Users/akhilpunia/Documents/07-ML_Challenges/11-OLX Code & the Curious/Dataset/user_messages_test.csv</pre>"
      ],
      "text/plain": [
       "Finished parsing file /Users/akhilpunia/Documents/07-ML_Challenges/11-OLX Code & the Curious/Dataset/user_messages_test.csv"
      ]
     },
     "metadata": {},
     "output_type": "display_data"
    },
    {
     "data": {
      "text/html": [
       "<pre>Parsing completed. Parsed 100 lines in 0.021447 secs.</pre>"
      ],
      "text/plain": [
       "Parsing completed. Parsed 100 lines in 0.021447 secs."
      ]
     },
     "metadata": {},
     "output_type": "display_data"
    },
    {
     "name": "stdout",
     "output_type": "stream",
     "text": [
      "------------------------------------------------------\n",
      "Inferred types from first 100 line(s) of file as \n",
      "column_type_hints=[int,int]\n",
      "If parsing fails due to incorrect types, you can correct\n",
      "the inferred type list above and pass it to read_csv in\n",
      "the column_type_hints argument\n",
      "------------------------------------------------------\n"
     ]
    },
    {
     "data": {
      "text/html": [
       "<pre>Finished parsing file /Users/akhilpunia/Documents/07-ML_Challenges/11-OLX Code & the Curious/Dataset/user_messages_test.csv</pre>"
      ],
      "text/plain": [
       "Finished parsing file /Users/akhilpunia/Documents/07-ML_Challenges/11-OLX Code & the Curious/Dataset/user_messages_test.csv"
      ]
     },
     "metadata": {},
     "output_type": "display_data"
    },
    {
     "data": {
      "text/html": [
       "<pre>Parsing completed. Parsed 10507 lines in 0.019134 secs.</pre>"
      ],
      "text/plain": [
       "Parsing completed. Parsed 10507 lines in 0.019134 secs."
      ]
     },
     "metadata": {},
     "output_type": "display_data"
    }
   ],
   "source": [
    "ads_data = gl.SFrame.read_csv('./Dataset/ads_data.csv')\n",
    "userdata = gl.SFrame.read_csv('./Dataset/user_data.csv')\n",
    "user_messages = gl.SFrame.read_csv('./Dataset/user_messages.csv')\n",
    "test = gl.SFrame.read_csv('./Dataset/user_messages_test.csv')"
   ]
  },
  {
   "cell_type": "code",
   "execution_count": 6,
   "metadata": {
    "collapsed": false
   },
   "outputs": [
    {
     "name": "stdout",
     "output_type": "stream",
     "text": [
      "Canvas is accessible via web browser at the URL: http://localhost:50663/index.html\n",
      "Opening Canvas in default web browser.\n"
     ]
    }
   ],
   "source": [
    "ads_data.show()"
   ]
  },
  {
   "cell_type": "code",
   "execution_count": 7,
   "metadata": {
    "collapsed": false
   },
   "outputs": [
    {
     "name": "stdout",
     "output_type": "stream",
     "text": [
      "Canvas is updated and available in a tab in the default browser.\n"
     ]
    }
   ],
   "source": [
    "userdata.show()"
   ]
  },
  {
   "cell_type": "code",
   "execution_count": 8,
   "metadata": {
    "collapsed": false
   },
   "outputs": [
    {
     "name": "stdout",
     "output_type": "stream",
     "text": [
      "Canvas is updated and available in a tab in the default browser.\n"
     ]
    }
   ],
   "source": [
    "user_messages.show()"
   ]
  },
  {
   "cell_type": "code",
   "execution_count": null,
   "metadata": {
    "collapsed": true
   },
   "outputs": [],
   "source": []
  }
 ],
 "metadata": {
  "kernelspec": {
   "display_name": "Python 2",
   "language": "python",
   "name": "python2"
  },
  "language_info": {
   "codemirror_mode": {
    "name": "ipython",
    "version": 2
   },
   "file_extension": ".py",
   "mimetype": "text/x-python",
   "name": "python",
   "nbconvert_exporter": "python",
   "pygments_lexer": "ipython2",
   "version": "2.7.11"
  }
 },
 "nbformat": 4,
 "nbformat_minor": 0
}
